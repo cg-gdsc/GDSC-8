{
 "cells": [
  {
   "cell_type": "markdown",
   "id": "2ba194c8-cefe-404d-8772-2acdaa7396f2",
   "metadata": {},
   "source": [
    "# Exploring data"
   ]
  },
  {
   "cell_type": "markdown",
   "id": "73402e3c-1b47-423c-b79f-4c5011f7ec83",
   "metadata": {},
   "source": [
    "### Challenge Overview\n",
    "\n",
    "During this challenge, you will work with text data representing **job** and **training** opportunities.\n",
    "\n",
    "To download the required data, run the following command in a code cell below:\n",
    "\n",
    "```bash\n",
    "!aws s3 cp s3://gdsc25test/ . --recursive --quiet\n"
   ]
  },
  {
   "cell_type": "code",
   "execution_count": 9,
   "id": "b13d4bb2-48a8-4f65-969d-30e61ce4a92d",
   "metadata": {},
   "outputs": [],
   "source": [
    "!aws s3 cp s3://gdsc25test/ . --recursive --quiet"
   ]
  },
  {
   "cell_type": "markdown",
   "id": "15856bc6-70b1-47d0-a858-685093f5675a",
   "metadata": {},
   "source": [
    "### Data Download\n",
    "\n",
    "After executing the command, your project structure will include a new directory named **`data`**.\n",
    "\n",
    "Inside the `data` directory, you will find two subdirectories:\n",
    "\n",
    "- **`trainings`**\n",
    "- **`jobs`**\n",
    "\n",
    "Each subdirectory contains Markdown files that provide structured descriptions of training sessions and job definitions."
   ]
  },
  {
   "cell_type": "markdown",
   "id": "eb03e8c5-0f06-4db9-9e60-6e209aa18a21",
   "metadata": {},
   "source": [
    "To preview the file you can use the **`display_markdown_file`** function:"
   ]
  },
  {
   "cell_type": "code",
   "execution_count": 4,
   "id": "0efa0e14-b12f-45d3-bf7d-eaa54075dae3",
   "metadata": {},
   "outputs": [],
   "source": [
    "from IPython.display import Markdown, display\n",
    "\n",
    "\n",
    "def display_markdown_file(path: str) -> None:\n",
    "    \"\"\"Displays Markdown files provided in a path argument.\"\"\"\n",
    "    with open(path, 'r', encoding=\"utf-8\") as file:\n",
    "        content = file.read()\n",
    "    display(Markdown(content))"
   ]
  },
  {
   "cell_type": "markdown",
   "id": "c45be402-fecb-4541-afff-7fe0a689f1ae",
   "metadata": {},
   "source": [
    "## Job Example"
   ]
  },
  {
   "cell_type": "code",
   "execution_count": 5,
   "id": "cc0c6d06-6028-42be-b543-1fdf6947af20",
   "metadata": {},
   "outputs": [
    {
     "data": {
      "text/markdown": [
       "# Job Description: Accounting Intern – Bookkeeping & Admin\n",
       "\n",
       "**Position Summary:**\n",
       "As an **Accounting Intern – Bookkeeping & Admin** on our **Accounting and Management** team, you'll handle day-to-day financial record keeping and administrative tasks that keep our operations running smoothly.\n",
       "\n",
       "**Your Responsibilities:**\n",
       "Your main tasks will include maintaining accurate financial records and transaction entries, managing tax-related documentation and compliance requirements, and supporting general administrative functions across the accounting department. You'll work closely with senior accounting staff and other departments that need financial data and reporting.\n",
       "\n",
       "**What We're Looking For:**\n",
       "You should have solid experience with **tax regulations and compliance processes at an intermediate level**, along with strong attention to detail and organizational skills. We expect a background of **graduation-level education and around 2 years of relevant experience**. You'll need to be fluent in **Portuguese (Brazilian)** and **English** to handle our documentation and communications effectively.\n",
       "\n",
       "**Location:**\n",
       "This position is based in **Brasília** and requires in-person work to access our financial systems and collaborate with the team.\n",
       "\n",
       "**How to Apply:**\n",
       "If you think you're a good fit, please send your application with your resume and a brief cover letter explaining your interest in this accounting internship role."
      ],
      "text/plain": [
       "<IPython.core.display.Markdown object>"
      ]
     },
     "metadata": {},
     "output_type": "display_data"
    }
   ],
   "source": [
    "display_markdown_file('data/jobs/job_acc_001.md')"
   ]
  },
  {
   "cell_type": "markdown",
   "id": "719ceffd-0405-46d0-bb90-62aa11fd19ba",
   "metadata": {},
   "source": [
    "## Training Example"
   ]
  },
  {
   "cell_type": "code",
   "execution_count": 7,
   "id": "e232451e-f841-4b22-9858-2caf8379949a",
   "metadata": {},
   "outputs": [
    {
     "data": {
      "text/markdown": [
       "**Why take this course?**\n",
       "\n",
       "The **Accounting Software Proficiency - Básico** will help you:\n",
       "✅ Build core skills in Accounting Software Proficiency (Current level: Básico)\n",
       "✅ Apply best practices for transparency and compliance  \n",
       "✅ Strengthen your resume with a recognized credential\n",
       "\n",
       "**Course Details:**\n",
       "- **Domain:** Accounting and Management\n",
       "- **Duration:** 8 weeks\n",
       "- **Format:** presencial\n",
       "- **Language:** pt-BR\n",
       "- **Certification:** Yes\n",
       "\n",
       "**Prerequisites:**\n",
       "None\n",
       "\n",
       "**Don't miss the chance to stand out—register today!**"
      ],
      "text/plain": [
       "<IPython.core.display.Markdown object>"
      ]
     },
     "metadata": {},
     "output_type": "display_data"
    }
   ],
   "source": [
    "display_markdown_file('data/trainings/tr_acc_accounting_software_proficiency_01.md')"
   ]
  },
  {
   "cell_type": "markdown",
   "id": "9bf1329a-41b6-4033-8738-eab21de9363c",
   "metadata": {},
   "source": [
    "### Data Contents\n",
    "\n",
    "Inside the provided files, you will find structured information including:\n",
    "\n",
    "- **Overview**\n",
    "- **Location**\n",
    "- **Prerequisites** (e.g., required skills, experience)\n",
    "- **Outcomes**\n",
    "\n",
    "Accurately extracting this information will support effective matching of available job and training opportunities with individual user needs.\n"
   ]
  }
 ],
 "metadata": {
  "kernelspec": {
   "display_name": "conda_python3",
   "language": "python",
   "name": "conda_python3"
  },
  "language_info": {
   "codemirror_mode": {
    "name": "ipython",
    "version": 3
   },
   "file_extension": ".py",
   "mimetype": "text/x-python",
   "name": "python",
   "nbconvert_exporter": "python",
   "pygments_lexer": "ipython3",
   "version": "3.10.18"
  }
 },
 "nbformat": 4,
 "nbformat_minor": 5
}
