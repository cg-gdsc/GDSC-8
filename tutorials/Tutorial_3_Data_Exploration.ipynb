{
 "cells": [
  {
   "cell_type": "markdown",
   "id": "2ba194c8-cefe-404d-8772-2acdaa7396f2",
   "metadata": {},
   "source": [
    "# Exploring data\n",
    "---"
   ]
  },
  {
   "cell_type": "markdown",
   "id": "73402e3c-1b47-423c-b79f-4c5011f7ec83",
   "metadata": {},
   "source": [
    "## Challenge Overview"
   ]
  },
  {
   "cell_type": "markdown",
   "id": "1b0dd506-4a3b-41b4-8785-5679f885b7a5",
   "metadata": {},
   "source": [
    "During this challenge, you will be working with text data representing **job** and **training** opportunities.\n",
    "\n",
    "The goal of this year's challenge is to develop a chatbot that assists users in navigating their career paths by analyzing available job and training offers. Through interactive conversations, the chatbot will gather relevant information from users and recommend the most suitable next steps in their professional journey.\n",
    "\n",
    "This prototype aims to simulate a solution that could eventually evolve into a powerful global tool—helping individuals around the world who are facing challenges in finding their next role."
   ]
  },
  {
   "cell_type": "markdown",
   "id": "f4dcea5e-1738-4612-8ddf-a51c40a12e6e",
   "metadata": {},
   "source": [
    "### Data Download\n",
    "To download the required data, run the following command in a code cell below:\n",
    "\n",
    "```bash\n",
    "!aws s3 cp s3://gdsc25test/ . --recursive\n"
   ]
  },
  {
   "cell_type": "code",
   "execution_count": null,
   "id": "b13d4bb2-48a8-4f65-969d-30e61ce4a92d",
   "metadata": {
    "scrolled": true
   },
   "outputs": [],
   "source": [
    "!aws s3 cp s3://gdsc25test/ . --recursive\n"
   ]
  },
  {
   "cell_type": "markdown",
   "id": "15856bc6-70b1-47d0-a858-685093f5675a",
   "metadata": {},
   "source": [
    "After executing the command, your project structure will include a new directory named **`data`**.\n",
    "\n",
    "Inside the `data` directory, you will find two subdirectories:\n",
    "\n",
    "- **`trainings`**\n",
    "- **`jobs`**\n",
    "\n",
    "Each subdirectory contains Markdown files that provide structured descriptions of training sessions and job definitions.\n",
    "\n",
    "---"
   ]
  },
  {
   "cell_type": "markdown",
   "id": "eb03e8c5-0f06-4db9-9e60-6e209aa18a21",
   "metadata": {},
   "source": [
    "### Preview\n",
    "To preview the file you can use the **`display_markdown_file`** function:"
   ]
  },
  {
   "cell_type": "code",
   "execution_count": 5,
   "id": "0efa0e14-b12f-45d3-bf7d-eaa54075dae3",
   "metadata": {},
   "outputs": [],
   "source": [
    "from IPython.display import Markdown, display\n",
    "from pathlib import Path\n",
    "\n",
    "def display_markdown_file(path: str) -> None:\n",
    "    p = Path(path)\n",
    "    if not p.exists():\n",
    "        print(f\"File not found: {p}\")\n",
    "        return\n",
    "    content = p.read_text(encoding='utf-8', errors='ignore')\n",
    "    display(Markdown(content))"
   ]
  },
  {
   "cell_type": "markdown",
   "id": "c45be402-fecb-4541-afff-7fe0a689f1ae",
   "metadata": {},
   "source": [
    "## Job Example"
   ]
  },
  {
   "cell_type": "markdown",
   "id": "3a32d91c-21dd-470e-8c10-5f81af877870",
   "metadata": {},
   "source": [
    "### Handling Diverse Job Offer Formats\n",
    "\n",
    "Job offers provided in this challenge may come in various formats. Your task is to design a solution that can **flexibly extract key information** regardless of structural differences between documents.\n",
    "\n",
    "Each job offer contains essential details such as:\n",
    "\n",
    "- **Position**\n",
    "- **Description**\n",
    "- **Location**\n",
    "- **Prerequisites** (e.g., skills, experience)\n",
    "\n",
    "Keep in mind that while all offers include this information, it may be presented in different ways across documents. Your solution should be robust enough to handle these variations and consistently retrieve the necessary data for accurate matching.\n",
    "\n",
    "Run the cell **below** to take a look at one job example."
   ]
  },
  {
   "cell_type": "code",
   "execution_count": 9,
   "id": "cc0c6d06-6028-42be-b543-1fdf6947af20",
   "metadata": {},
   "outputs": [
    {
     "data": {
      "text/markdown": [
       "# Job Description: Accounting Intern – Bookkeeping & Admin\n",
       "\n",
       "**Position Summary:**\n",
       "As an **Accounting Intern – Bookkeeping & Admin** on our **Accounting and Management** team, you'll handle day-to-day financial record keeping and administrative tasks that keep our operations running smoothly.\n",
       "\n",
       "**Your Responsibilities:**\n",
       "Your main tasks will include maintaining accurate financial records and transaction entries, managing tax-related documentation and compliance requirements, and supporting general administrative functions across the accounting department. You'll work closely with senior accounting staff and other departments that need financial data and reporting.\n",
       "\n",
       "**What We're Looking For:**\n",
       "You should have solid experience with **tax regulations and compliance processes at an intermediate level**, along with strong attention to detail and organizational skills. We expect a background of **graduation-level education and around 2 years of relevant experience**. You'll need to be fluent in **Portuguese (Brazilian)** and **English** to handle our documentation and communications effectively.\n",
       "\n",
       "**Location:**\n",
       "This position is based in **Brasília** and requires in-person work to access our financial systems and collaborate with the team.\n",
       "\n",
       "**How to Apply:**\n",
       "If you think you're a good fit, please send your application with your resume and a brief cover letter explaining your interest in this accounting internship role."
      ],
      "text/plain": [
       "<IPython.core.display.Markdown object>"
      ]
     },
     "metadata": {},
     "output_type": "display_data"
    }
   ],
   "source": [
    "display_markdown_file('data/jobs/job_acc_001.md')"
   ]
  },
  {
   "cell_type": "markdown",
   "id": "6f00b10f-a21a-4e8f-9d4d-543cdc39c2d8",
   "metadata": {},
   "source": [
    "---"
   ]
  },
  {
   "cell_type": "markdown",
   "id": "719ceffd-0405-46d0-bb90-62aa11fd19ba",
   "metadata": {},
   "source": [
    "## Training Example"
   ]
  },
  {
   "cell_type": "markdown",
   "id": "f9075f3f-4844-4846-bd3a-87fbde622a7b",
   "metadata": {},
   "source": [
    "### Training Data Characteristics\n",
    "\n",
    "Training data shares a similar structure with job offers and contains all the necessary information for effective matching.\n",
    "\n",
    "A key aspect to remember is that **each training is designed to develop a single skill**. This constraint is crucial when building your matching solution, as it ensures that recommendations are precise and aligned with the user's skill development needs.\n",
    "\n",
    "Your solution should be capable of extracting relevant details from training descriptions and associating them with the appropriate skill, even when the format or phrasing varies across documents.\n",
    "\n",
    "Run the cell **below** to take a look at one training example."
   ]
  },
  {
   "cell_type": "code",
   "execution_count": 19,
   "id": "e232451e-f841-4b22-9858-2caf8379949a",
   "metadata": {},
   "outputs": [
    {
     "data": {
      "text/markdown": [
       "**Why take this course?**\n",
       "\n",
       "The **Accounting Software Proficiency - Básico** will help you:\n",
       "✅ Build core skills in Accounting Software Proficiency (Current level: Básico)\n",
       "✅ Apply best practices for transparency and compliance  \n",
       "✅ Strengthen your resume with a recognized credential\n",
       "\n",
       "**Course Details:**\n",
       "- **Domain:** Accounting and Management\n",
       "- **Duration:** 8 weeks\n",
       "- **Format:** online\n",
       "- **Language:** pt-BR\n",
       "- **Certification:** Yes\n",
       "\n",
       "**Prerequisites:**\n",
       "None\n",
       "\n",
       "**Don't miss the chance to stand out—register today!**"
      ],
      "text/plain": [
       "<IPython.core.display.Markdown object>"
      ]
     },
     "metadata": {},
     "output_type": "display_data"
    }
   ],
   "source": [
    "display_markdown_file('data/trainings/tr_acc_accounting_software_proficiency_01.md')"
   ]
  },
  {
   "cell_type": "markdown",
   "id": "b56032ef-327b-4b35-b11d-138cc5fe1204",
   "metadata": {},
   "source": [
    "---"
   ]
  },
  {
   "cell_type": "markdown",
   "id": "9bf1329a-41b6-4033-8738-eab21de9363c",
   "metadata": {},
   "source": [
    "### Data Contents\n",
    "\n",
    "Inside the provided files, you will find structured information including:\n",
    "\n",
    "- **Overview**\n",
    "- **Location**\n",
    "- **Prerequisites** (e.g., required skills, experience)\n",
    "- **Outcomes**\n",
    "\n",
    "The dataset includes job and training opportunities from various fields and industries. These documents are presented in **multiple formats**, which means your data retrieval solution must be **flexible and adaptable** to handle structural and linguistic variations.\n",
    "\n",
    "Accurately extracting this information is essential for building a system that can effectively match available opportunities with individual user needs.\n"
   ]
  },
  {
   "cell_type": "markdown",
   "id": "3e9b3d6b-cfc1-4a4f-a613-219f73c85ece",
   "metadata": {},
   "source": [
    "### Basic Overview\n",
    "\n",
    "The dataset includes:\n",
    "\n",
    "- **`200 jobs`**\n",
    "- **`497 trainings`**\n",
    "- Average token count for jobs: **`264 tokens`**\n",
    "- Average token count for trainings: **`143 tokens`**\n",
    "\n",
    "---\n",
    "\n",
    "### Filtering Example\n",
    "\n",
    "Given the volume of data—**200 job offers** and **497 training opportunities**—iterating over every item for each query is inefficient. A recommended approach is to **pre-filter and organize** the data based on relevant attributes.\n",
    "\n",
    "One such attribute is **seniority level**, which can be used to group and narrow down the options.\n",
    "\n",
    "In the exercise below, you'll explore how AI can be leveraged to filter training data by seniority level, enabling more targeted and efficient matching.\n"
   ]
  },
  {
   "cell_type": "code",
   "execution_count": null,
   "id": "4f086313-70b6-4cd0-8604-f7466668a7d0",
   "metadata": {},
   "outputs": [],
   "source": [
    "# Import necessary libraries\n",
    "import os\n",
    "import dotenv\n",
    "from strands.agent import Agent\n",
    "from strands.models.mistral import MistralModel\n",
    "\n",
    "# load env variables\n",
    "dotenv.load_dotenv(\"env\")\n",
    "\n",
    "# Initialize model. Your MISTRAL_API_KEY should be located in .env file.\n",
    "model = MistralModel(\n",
    "        api_key=os.environ[\"MISTRAL_API_KEY\"],\n",
    "        model_id=\"mistral-large-latest\",\n",
    "        stream=False\n",
    "    )\n",
    "\n",
    "# Load example training\n",
    "with open('data/trainings/tr_acc_accounting_software_proficiency_02.md', 'r') as file:\n",
    "    training = file.read()\n",
    "\n",
    "# System prompt for an agent\n",
    "system_prompt = \"\"\"\n",
    "You are a helpful assistant which analyzes training offers and filters them by seniority level.\n",
    "You create 3 categories:\n",
    "* Basic\n",
    "* Intermediate\n",
    "* Advanced\n",
    "As a result file you say in which category should the training be.\n",
    "Provide just an answer without reasoning.\n",
    "The training will be provided by user.\n",
    "\"\"\"\n",
    "\n",
    "# Initializing agents\n",
    "agent = Agent(model=model, system_prompt=system_prompt, callback_handler=None)\n",
    "\n",
    "# Printing the solution\n",
    "result = agent(training)\n",
    "\n",
    "# Final decision\n",
    "print(result.message['content'][0]['text'])"
   ]
  },
  {
   "cell_type": "markdown",
   "id": "91855180-d538-40e5-85a8-d0c745992702",
   "metadata": {},
   "source": [
    "Possible improvements:\n",
    "* Implement solution which takes all the training at once and performs filtering solution\n",
    "* Return 3 lists of already filtered trainings"
   ]
  }
 ],
 "metadata": {
  "kernelspec": {
   "display_name": "conda_python3",
   "language": "python",
   "name": "conda_python3"
  },
  "language_info": {
   "codemirror_mode": {
    "name": "ipython",
    "version": 3
   },
   "file_extension": ".py",
   "mimetype": "text/x-python",
   "name": "python",
   "nbconvert_exporter": "python",
   "pygments_lexer": "ipython3",
   "version": "3.10.18"
  }
 },
 "nbformat": 4,
 "nbformat_minor": 5
}
