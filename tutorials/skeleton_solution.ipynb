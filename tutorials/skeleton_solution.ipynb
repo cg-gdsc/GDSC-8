{
 "cells": [
  {
   "cell_type": "code",
   "execution_count": 1,
   "id": "eaea221c-c253-4cec-bd42-a1d140783334",
   "metadata": {
    "collapsed": true,
    "jupyter": {
     "outputs_hidden": true
    },
    "scrolled": true
   },
   "outputs": [
    {
     "name": "stdout",
     "output_type": "stream",
     "text": [
      "Collecting python-dotenv\n",
      "  Downloading python_dotenv-1.1.1-py3-none-any.whl.metadata (24 kB)\n",
      "Collecting strands-agents-tools\n",
      "  Downloading strands_agents_tools-0.2.6-py3-none-any.whl.metadata (43 kB)\n",
      "Requirement already satisfied: tqdm in /home/ec2-user/anaconda3/envs/python3/lib/python3.10/site-packages (4.67.1)\n",
      "Collecting strands-agents[mistral]\n",
      "  Downloading strands_agents-1.7.1-py3-none-any.whl.metadata (12 kB)\n",
      "Requirement already satisfied: boto3<2.0.0,>=1.26.0 in /home/ec2-user/anaconda3/envs/python3/lib/python3.10/site-packages (from strands-agents[mistral]) (1.40.21)\n",
      "Requirement already satisfied: botocore<2.0.0,>=1.29.0 in /home/ec2-user/anaconda3/envs/python3/lib/python3.10/site-packages (from strands-agents[mistral]) (1.40.21)\n",
      "Collecting docstring-parser<1.0,>=0.15 (from strands-agents[mistral])\n",
      "  Downloading docstring_parser-0.17.0-py3-none-any.whl.metadata (3.5 kB)\n",
      "Collecting mcp<2.0.0,>=1.11.0 (from strands-agents[mistral])\n",
      "  Downloading mcp-1.13.1-py3-none-any.whl.metadata (74 kB)\n",
      "Collecting opentelemetry-api<2.0.0,>=1.30.0 (from strands-agents[mistral])\n",
      "  Downloading opentelemetry_api-1.36.0-py3-none-any.whl.metadata (1.5 kB)\n",
      "Collecting opentelemetry-instrumentation-threading<1.00b0,>=0.51b0 (from strands-agents[mistral])\n",
      "  Downloading opentelemetry_instrumentation_threading-0.57b0-py3-none-any.whl.metadata (2.1 kB)\n",
      "Collecting opentelemetry-sdk<2.0.0,>=1.30.0 (from strands-agents[mistral])\n",
      "  Downloading opentelemetry_sdk-1.36.0-py3-none-any.whl.metadata (1.5 kB)\n",
      "Requirement already satisfied: pydantic<3.0.0,>=2.4.0 in /home/ec2-user/anaconda3/envs/python3/lib/python3.10/site-packages (from strands-agents[mistral]) (2.9.2)\n",
      "Requirement already satisfied: typing-extensions<5.0.0,>=4.13.2 in /home/ec2-user/anaconda3/envs/python3/lib/python3.10/site-packages (from strands-agents[mistral]) (4.15.0)\n",
      "Requirement already satisfied: watchdog<7.0.0,>=6.0.0 in /home/ec2-user/anaconda3/envs/python3/lib/python3.10/site-packages (from strands-agents[mistral]) (6.0.0)\n",
      "Collecting mistralai>=1.8.2 (from strands-agents[mistral])\n",
      "  Downloading mistralai-1.9.10-py3-none-any.whl.metadata (37 kB)\n",
      "Requirement already satisfied: jmespath<2.0.0,>=0.7.1 in /home/ec2-user/anaconda3/envs/python3/lib/python3.10/site-packages (from boto3<2.0.0,>=1.26.0->strands-agents[mistral]) (1.0.1)\n",
      "Requirement already satisfied: s3transfer<0.14.0,>=0.13.0 in /home/ec2-user/anaconda3/envs/python3/lib/python3.10/site-packages (from boto3<2.0.0,>=1.26.0->strands-agents[mistral]) (0.13.1)\n",
      "Requirement already satisfied: python-dateutil<3.0.0,>=2.1 in /home/ec2-user/anaconda3/envs/python3/lib/python3.10/site-packages (from botocore<2.0.0,>=1.29.0->strands-agents[mistral]) (2.9.0.post0)\n",
      "Requirement already satisfied: urllib3!=2.2.0,<3,>=1.25.4 in /home/ec2-user/anaconda3/envs/python3/lib/python3.10/site-packages (from botocore<2.0.0,>=1.29.0->strands-agents[mistral]) (2.5.0)\n",
      "Requirement already satisfied: anyio>=4.5 in /home/ec2-user/anaconda3/envs/python3/lib/python3.10/site-packages (from mcp<2.0.0,>=1.11.0->strands-agents[mistral]) (4.10.0)\n",
      "Collecting httpx-sse>=0.4 (from mcp<2.0.0,>=1.11.0->strands-agents[mistral])\n",
      "  Downloading httpx_sse-0.4.1-py3-none-any.whl.metadata (9.4 kB)\n",
      "Collecting httpx>=0.27.1 (from mcp<2.0.0,>=1.11.0->strands-agents[mistral])\n",
      "  Using cached httpx-0.28.1-py3-none-any.whl.metadata (7.1 kB)\n",
      "Requirement already satisfied: jsonschema>=4.20.0 in /home/ec2-user/anaconda3/envs/python3/lib/python3.10/site-packages (from mcp<2.0.0,>=1.11.0->strands-agents[mistral]) (4.25.1)\n",
      "Collecting pydantic-settings>=2.5.2 (from mcp<2.0.0,>=1.11.0->strands-agents[mistral])\n",
      "  Downloading pydantic_settings-2.10.1-py3-none-any.whl.metadata (3.4 kB)\n",
      "Collecting pydantic<3.0.0,>=2.4.0 (from strands-agents[mistral])\n",
      "  Using cached pydantic-2.11.7-py3-none-any.whl.metadata (67 kB)\n",
      "Collecting python-multipart>=0.0.9 (from mcp<2.0.0,>=1.11.0->strands-agents[mistral])\n",
      "  Downloading python_multipart-0.0.20-py3-none-any.whl.metadata (1.8 kB)\n",
      "Collecting sse-starlette>=1.6.1 (from mcp<2.0.0,>=1.11.0->strands-agents[mistral])\n",
      "  Downloading sse_starlette-3.0.2-py3-none-any.whl.metadata (11 kB)\n",
      "Requirement already satisfied: starlette>=0.27 in /home/ec2-user/anaconda3/envs/python3/lib/python3.10/site-packages (from mcp<2.0.0,>=1.11.0->strands-agents[mistral]) (0.47.3)\n",
      "Requirement already satisfied: uvicorn>=0.31.1 in /home/ec2-user/anaconda3/envs/python3/lib/python3.10/site-packages (from mcp<2.0.0,>=1.11.0->strands-agents[mistral]) (0.35.0)\n",
      "Requirement already satisfied: importlib-metadata<8.8.0,>=6.0 in /home/ec2-user/anaconda3/envs/python3/lib/python3.10/site-packages (from opentelemetry-api<2.0.0,>=1.30.0->strands-agents[mistral]) (6.11.0)\n",
      "Requirement already satisfied: zipp>=0.5 in /home/ec2-user/anaconda3/envs/python3/lib/python3.10/site-packages (from importlib-metadata<8.8.0,>=6.0->opentelemetry-api<2.0.0,>=1.30.0->strands-agents[mistral]) (3.23.0)\n",
      "Collecting opentelemetry-instrumentation==0.57b0 (from opentelemetry-instrumentation-threading<1.00b0,>=0.51b0->strands-agents[mistral])\n",
      "  Downloading opentelemetry_instrumentation-0.57b0-py3-none-any.whl.metadata (6.7 kB)\n",
      "Requirement already satisfied: wrapt<2.0.0,>=1.0.0 in /home/ec2-user/anaconda3/envs/python3/lib/python3.10/site-packages (from opentelemetry-instrumentation-threading<1.00b0,>=0.51b0->strands-agents[mistral]) (1.17.3)\n",
      "Collecting opentelemetry-semantic-conventions==0.57b0 (from opentelemetry-instrumentation==0.57b0->opentelemetry-instrumentation-threading<1.00b0,>=0.51b0->strands-agents[mistral])\n",
      "  Downloading opentelemetry_semantic_conventions-0.57b0-py3-none-any.whl.metadata (2.4 kB)\n",
      "Requirement already satisfied: packaging>=18.0 in /home/ec2-user/anaconda3/envs/python3/lib/python3.10/site-packages (from opentelemetry-instrumentation==0.57b0->opentelemetry-instrumentation-threading<1.00b0,>=0.51b0->strands-agents[mistral]) (24.2)\n",
      "Requirement already satisfied: annotated-types>=0.6.0 in /home/ec2-user/anaconda3/envs/python3/lib/python3.10/site-packages (from pydantic<3.0.0,>=2.4.0->strands-agents[mistral]) (0.7.0)\n",
      "Collecting pydantic-core==2.33.2 (from pydantic<3.0.0,>=2.4.0->strands-agents[mistral])\n",
      "  Using cached pydantic_core-2.33.2-cp310-cp310-manylinux_2_17_x86_64.manylinux2014_x86_64.whl.metadata (6.8 kB)\n",
      "Collecting typing-inspection>=0.4.0 (from pydantic<3.0.0,>=2.4.0->strands-agents[mistral])\n",
      "  Using cached typing_inspection-0.4.1-py3-none-any.whl.metadata (2.6 kB)\n",
      "Requirement already satisfied: six>=1.5 in /home/ec2-user/anaconda3/envs/python3/lib/python3.10/site-packages (from python-dateutil<3.0.0,>=2.1->botocore<2.0.0,>=1.29.0->strands-agents[mistral]) (1.17.0)\n",
      "Requirement already satisfied: aiohttp<4.0.0,>=3.8.0 in /home/ec2-user/anaconda3/envs/python3/lib/python3.10/site-packages (from strands-agents-tools) (3.12.15)\n",
      "Collecting aws-requests-auth<0.5.0,>=0.4.3 (from strands-agents-tools)\n",
      "  Downloading aws_requests_auth-0.4.3-py2.py3-none-any.whl.metadata (567 bytes)\n",
      "Requirement already satisfied: dill<0.5.0,>=0.4.0 in /home/ec2-user/anaconda3/envs/python3/lib/python3.10/site-packages (from strands-agents-tools) (0.4.0)\n",
      "Collecting markdownify<2.0.0,>=1.0.0 (from strands-agents-tools)\n",
      "  Downloading markdownify-1.2.0-py3-none-any.whl.metadata (9.9 kB)\n",
      "Requirement already satisfied: pillow<12.0.0,>=11.2.1 in /home/ec2-user/anaconda3/envs/python3/lib/python3.10/site-packages (from strands-agents-tools) (11.3.0)\n",
      "Requirement already satisfied: prompt-toolkit<4.0.0,>=3.0.51 in /home/ec2-user/anaconda3/envs/python3/lib/python3.10/site-packages (from strands-agents-tools) (3.0.51)\n",
      "Requirement already satisfied: pyjwt<3.0.0,>=2.10.1 in /home/ec2-user/anaconda3/envs/python3/lib/python3.10/site-packages (from strands-agents-tools) (2.10.1)\n",
      "Collecting readabilipy<1.0.0,>=0.2.0 (from strands-agents-tools)\n",
      "  Downloading readabilipy-0.3.0-py3-none-any.whl.metadata (8.9 kB)\n",
      "Requirement already satisfied: requests<3.0.0,>=2.28.0 in /home/ec2-user/anaconda3/envs/python3/lib/python3.10/site-packages (from strands-agents-tools) (2.32.5)\n",
      "Requirement already satisfied: rich<15.0.0,>=14.0.0 in /home/ec2-user/anaconda3/envs/python3/lib/python3.10/site-packages (from strands-agents-tools) (14.1.0)\n",
      "Collecting slack-bolt<2.0.0,>=1.23.0 (from strands-agents-tools)\n",
      "  Downloading slack_bolt-1.25.0-py2.py3-none-any.whl.metadata (11 kB)\n",
      "Requirement already satisfied: sympy<2.0.0,>=1.12.0 in /home/ec2-user/anaconda3/envs/python3/lib/python3.10/site-packages (from strands-agents-tools) (1.14.0)\n",
      "Requirement already satisfied: tenacity<10.0.0,>=9.1.2 in /home/ec2-user/anaconda3/envs/python3/lib/python3.10/site-packages (from strands-agents-tools) (9.1.2)\n",
      "Requirement already satisfied: aiohappyeyeballs>=2.5.0 in /home/ec2-user/anaconda3/envs/python3/lib/python3.10/site-packages (from aiohttp<4.0.0,>=3.8.0->strands-agents-tools) (2.6.1)\n",
      "Requirement already satisfied: aiosignal>=1.4.0 in /home/ec2-user/anaconda3/envs/python3/lib/python3.10/site-packages (from aiohttp<4.0.0,>=3.8.0->strands-agents-tools) (1.4.0)\n",
      "Requirement already satisfied: async-timeout<6.0,>=4.0 in /home/ec2-user/anaconda3/envs/python3/lib/python3.10/site-packages (from aiohttp<4.0.0,>=3.8.0->strands-agents-tools) (5.0.1)\n",
      "Requirement already satisfied: attrs>=17.3.0 in /home/ec2-user/anaconda3/envs/python3/lib/python3.10/site-packages (from aiohttp<4.0.0,>=3.8.0->strands-agents-tools) (25.3.0)\n",
      "Requirement already satisfied: frozenlist>=1.1.1 in /home/ec2-user/anaconda3/envs/python3/lib/python3.10/site-packages (from aiohttp<4.0.0,>=3.8.0->strands-agents-tools) (1.7.0)\n",
      "Requirement already satisfied: multidict<7.0,>=4.5 in /home/ec2-user/anaconda3/envs/python3/lib/python3.10/site-packages (from aiohttp<4.0.0,>=3.8.0->strands-agents-tools) (6.6.3)\n",
      "Requirement already satisfied: propcache>=0.2.0 in /home/ec2-user/anaconda3/envs/python3/lib/python3.10/site-packages (from aiohttp<4.0.0,>=3.8.0->strands-agents-tools) (0.3.1)\n",
      "Requirement already satisfied: yarl<2.0,>=1.17.0 in /home/ec2-user/anaconda3/envs/python3/lib/python3.10/site-packages (from aiohttp<4.0.0,>=3.8.0->strands-agents-tools) (1.20.1)\n",
      "Requirement already satisfied: beautifulsoup4<5,>=4.9 in /home/ec2-user/anaconda3/envs/python3/lib/python3.10/site-packages (from markdownify<2.0.0,>=1.0.0->strands-agents-tools) (4.13.5)\n",
      "Requirement already satisfied: soupsieve>1.2 in /home/ec2-user/anaconda3/envs/python3/lib/python3.10/site-packages (from beautifulsoup4<5,>=4.9->markdownify<2.0.0,>=1.0.0->strands-agents-tools) (2.7)\n",
      "Requirement already satisfied: wcwidth in /home/ec2-user/anaconda3/envs/python3/lib/python3.10/site-packages (from prompt-toolkit<4.0.0,>=3.0.51->strands-agents-tools) (0.2.13)\n",
      "Collecting html5lib (from readabilipy<1.0.0,>=0.2.0->strands-agents-tools)\n",
      "  Downloading html5lib-1.1-py2.py3-none-any.whl.metadata (16 kB)\n",
      "Collecting lxml (from readabilipy<1.0.0,>=0.2.0->strands-agents-tools)\n",
      "  Downloading lxml-6.0.1-cp310-cp310-manylinux_2_26_x86_64.manylinux_2_28_x86_64.whl.metadata (3.8 kB)\n",
      "Requirement already satisfied: regex in /home/ec2-user/anaconda3/envs/python3/lib/python3.10/site-packages (from readabilipy<1.0.0,>=0.2.0->strands-agents-tools) (2025.7.34)\n",
      "Requirement already satisfied: charset_normalizer<4,>=2 in /home/ec2-user/anaconda3/envs/python3/lib/python3.10/site-packages (from requests<3.0.0,>=2.28.0->strands-agents-tools) (3.4.3)\n",
      "Requirement already satisfied: idna<4,>=2.5 in /home/ec2-user/anaconda3/envs/python3/lib/python3.10/site-packages (from requests<3.0.0,>=2.28.0->strands-agents-tools) (3.10)\n",
      "Requirement already satisfied: certifi>=2017.4.17 in /home/ec2-user/anaconda3/envs/python3/lib/python3.10/site-packages (from requests<3.0.0,>=2.28.0->strands-agents-tools) (2025.8.3)\n",
      "Requirement already satisfied: markdown-it-py>=2.2.0 in /home/ec2-user/anaconda3/envs/python3/lib/python3.10/site-packages (from rich<15.0.0,>=14.0.0->strands-agents-tools) (4.0.0)\n",
      "Requirement already satisfied: pygments<3.0.0,>=2.13.0 in /home/ec2-user/anaconda3/envs/python3/lib/python3.10/site-packages (from rich<15.0.0,>=14.0.0->strands-agents-tools) (2.19.2)\n",
      "Collecting slack_sdk<4,>=3.35.0 (from slack-bolt<2.0.0,>=1.23.0->strands-agents-tools)\n",
      "  Downloading slack_sdk-3.36.0-py2.py3-none-any.whl.metadata (15 kB)\n",
      "Requirement already satisfied: mpmath<1.4,>=1.1.0 in /home/ec2-user/anaconda3/envs/python3/lib/python3.10/site-packages (from sympy<2.0.0,>=1.12.0->strands-agents-tools) (1.3.0)\n",
      "Requirement already satisfied: exceptiongroup>=1.0.2 in /home/ec2-user/anaconda3/envs/python3/lib/python3.10/site-packages (from anyio>=4.5->mcp<2.0.0,>=1.11.0->strands-agents[mistral]) (1.3.0)\n",
      "Requirement already satisfied: sniffio>=1.1 in /home/ec2-user/anaconda3/envs/python3/lib/python3.10/site-packages (from anyio>=4.5->mcp<2.0.0,>=1.11.0->strands-agents[mistral]) (1.3.1)\n",
      "Collecting httpcore==1.* (from httpx>=0.27.1->mcp<2.0.0,>=1.11.0->strands-agents[mistral])\n",
      "  Using cached httpcore-1.0.9-py3-none-any.whl.metadata (21 kB)\n",
      "Requirement already satisfied: h11>=0.16 in /home/ec2-user/anaconda3/envs/python3/lib/python3.10/site-packages (from httpcore==1.*->httpx>=0.27.1->mcp<2.0.0,>=1.11.0->strands-agents[mistral]) (0.16.0)\n",
      "Requirement already satisfied: jsonschema-specifications>=2023.03.6 in /home/ec2-user/anaconda3/envs/python3/lib/python3.10/site-packages (from jsonschema>=4.20.0->mcp<2.0.0,>=1.11.0->strands-agents[mistral]) (2025.4.1)\n",
      "Requirement already satisfied: referencing>=0.28.4 in /home/ec2-user/anaconda3/envs/python3/lib/python3.10/site-packages (from jsonschema>=4.20.0->mcp<2.0.0,>=1.11.0->strands-agents[mistral]) (0.36.2)\n",
      "Requirement already satisfied: rpds-py>=0.7.1 in /home/ec2-user/anaconda3/envs/python3/lib/python3.10/site-packages (from jsonschema>=4.20.0->mcp<2.0.0,>=1.11.0->strands-agents[mistral]) (0.27.0)\n",
      "Requirement already satisfied: mdurl~=0.1 in /home/ec2-user/anaconda3/envs/python3/lib/python3.10/site-packages (from markdown-it-py>=2.2.0->rich<15.0.0,>=14.0.0->strands-agents-tools) (0.1.2)\n",
      "Collecting eval-type-backport>=0.2.0 (from mistralai>=1.8.2->strands-agents[mistral])\n",
      "  Downloading eval_type_backport-0.2.2-py3-none-any.whl.metadata (2.2 kB)\n",
      "Collecting invoke<3.0.0,>=2.2.0 (from mistralai>=1.8.2->strands-agents[mistral])\n",
      "  Downloading invoke-2.2.0-py3-none-any.whl.metadata (3.3 kB)\n",
      "Requirement already satisfied: pyyaml<7.0.0,>=6.0.2 in /home/ec2-user/anaconda3/envs/python3/lib/python3.10/site-packages (from mistralai>=1.8.2->strands-agents[mistral]) (6.0.2)\n",
      "Requirement already satisfied: click>=7.0 in /home/ec2-user/anaconda3/envs/python3/lib/python3.10/site-packages (from uvicorn>=0.31.1->mcp<2.0.0,>=1.11.0->strands-agents[mistral]) (8.2.1)\n",
      "Requirement already satisfied: webencodings in /home/ec2-user/anaconda3/envs/python3/lib/python3.10/site-packages (from html5lib->readabilipy<1.0.0,>=0.2.0->strands-agents-tools) (0.5.1)\n",
      "Downloading python_dotenv-1.1.1-py3-none-any.whl (20 kB)\n",
      "Downloading strands_agents-1.7.1-py3-none-any.whl (192 kB)\n",
      "Downloading docstring_parser-0.17.0-py3-none-any.whl (36 kB)\n",
      "Downloading mcp-1.13.1-py3-none-any.whl (161 kB)\n",
      "Downloading opentelemetry_api-1.36.0-py3-none-any.whl (65 kB)\n",
      "Downloading opentelemetry_instrumentation_threading-0.57b0-py3-none-any.whl (9.3 kB)\n",
      "Downloading opentelemetry_instrumentation-0.57b0-py3-none-any.whl (32 kB)\n",
      "Downloading opentelemetry_semantic_conventions-0.57b0-py3-none-any.whl (201 kB)\n",
      "Downloading opentelemetry_sdk-1.36.0-py3-none-any.whl (119 kB)\n",
      "Using cached pydantic-2.11.7-py3-none-any.whl (444 kB)\n",
      "Using cached pydantic_core-2.33.2-cp310-cp310-manylinux_2_17_x86_64.manylinux2014_x86_64.whl (2.0 MB)\n",
      "Downloading strands_agents_tools-0.2.6-py3-none-any.whl (283 kB)\n",
      "Downloading aws_requests_auth-0.4.3-py2.py3-none-any.whl (6.8 kB)\n",
      "Downloading markdownify-1.2.0-py3-none-any.whl (15 kB)\n",
      "Downloading readabilipy-0.3.0-py3-none-any.whl (22 kB)\n",
      "Downloading slack_bolt-1.25.0-py2.py3-none-any.whl (229 kB)\n",
      "Downloading slack_sdk-3.36.0-py2.py3-none-any.whl (293 kB)\n",
      "Using cached httpx-0.28.1-py3-none-any.whl (73 kB)\n",
      "Using cached httpcore-1.0.9-py3-none-any.whl (78 kB)\n",
      "Downloading httpx_sse-0.4.1-py3-none-any.whl (8.1 kB)\n",
      "Downloading mistralai-1.9.10-py3-none-any.whl (440 kB)\n",
      "Downloading invoke-2.2.0-py3-none-any.whl (160 kB)\n",
      "Downloading eval_type_backport-0.2.2-py3-none-any.whl (5.8 kB)\n",
      "Downloading pydantic_settings-2.10.1-py3-none-any.whl (45 kB)\n",
      "Downloading python_multipart-0.0.20-py3-none-any.whl (24 kB)\n",
      "Downloading sse_starlette-3.0.2-py3-none-any.whl (11 kB)\n",
      "Using cached typing_inspection-0.4.1-py3-none-any.whl (14 kB)\n",
      "Downloading html5lib-1.1-py2.py3-none-any.whl (112 kB)\n",
      "Downloading lxml-6.0.1-cp310-cp310-manylinux_2_26_x86_64.manylinux_2_28_x86_64.whl (5.3 MB)\n",
      "\u001b[2K   \u001b[90m━━━━━━━━━━━━━━━━━━━━━━━━━━━━━━━━━━━━━━━━\u001b[0m \u001b[32m5.3/5.3 MB\u001b[0m \u001b[31m162.4 MB/s\u001b[0m  \u001b[33m0:00:00\u001b[0m\n",
      "\u001b[?25hInstalling collected packages: typing-inspection, slack_sdk, python-multipart, python-dotenv, pydantic-core, lxml, invoke, httpx-sse, httpcore, html5lib, eval-type-backport, docstring-parser, slack-bolt, readabilipy, pydantic, opentelemetry-api, markdownify, aws-requests-auth, sse-starlette, pydantic-settings, opentelemetry-semantic-conventions, httpx, opentelemetry-sdk, opentelemetry-instrumentation, mistralai, mcp, opentelemetry-instrumentation-threading, strands-agents, strands-agents-tools\n",
      "\u001b[2K  Attempting uninstall: pydantic-core━━━━━━━━━━━━━━━━━━━━━━━━━━━━━\u001b[0m \u001b[32m 1/29\u001b[0m [slack_sdk]\n",
      "\u001b[2K    Found existing installation: pydantic_core 2.23.4━━━━━━━━━\u001b[0m \u001b[32m 1/29\u001b[0m [slack_sdk]\n",
      "\u001b[2K    Uninstalling pydantic_core-2.23.4:━━━━━━━━━━━━━━━━━━━━━━━━\u001b[0m \u001b[32m 1/29\u001b[0m [slack_sdk]\n",
      "\u001b[2K      Successfully uninstalled pydantic_core-2.23.4━━━━━━━━━━━\u001b[0m \u001b[32m 1/29\u001b[0m [slack_sdk]\n",
      "\u001b[2K  Attempting uninstall: pydanticm╸\u001b[0m\u001b[90m━━━━━━━━━━━━━━━━━━━━━━━\u001b[0m \u001b[32m12/29\u001b[0m [slack-bolt]re]\n",
      "\u001b[2K    Found existing installation: pydantic 2.9.2━━━━━━━━━━━━━━━\u001b[0m \u001b[32m12/29\u001b[0m [slack-bolt]\n",
      "\u001b[2K    Uninstalling pydantic-2.9.2:0m\u001b[90m━━━━━━━━━━━━━━━━━━━━━━━\u001b[0m \u001b[32m12/29\u001b[0m [slack-bolt]\n",
      "\u001b[2K      Successfully uninstalled pydantic-2.9.2━━━━━━━━━━━━━━━━━\u001b[0m \u001b[32m12/29\u001b[0m [slack-bolt]\n",
      "\u001b[2K   \u001b[90m━━━━━━━━━━━━━━━━━━━━━━━━━━━━━━━━━━━━━━━━\u001b[0m \u001b[32m29/29\u001b[0m [strands-agents-tools]ands-agents-tools]ntation]\n",
      "\u001b[1A\u001b[2K\u001b[31mERROR: pip's dependency resolver does not currently take into account all the packages that are installed. This behaviour is the source of the following dependency conflicts.\n",
      "safety-schemas 0.0.14 requires pydantic<2.10.0,>=2.6.0, but you have pydantic 2.11.7 which is incompatible.\n",
      "sparkmagic 0.21.0 requires pandas<2.0.0,>=0.17.1, but you have pandas 2.3.2 which is incompatible.\u001b[0m\u001b[31m\n",
      "\u001b[0mSuccessfully installed aws-requests-auth-0.4.3 docstring-parser-0.17.0 eval-type-backport-0.2.2 html5lib-1.1 httpcore-1.0.9 httpx-0.28.1 httpx-sse-0.4.1 invoke-2.2.0 lxml-6.0.1 markdownify-1.2.0 mcp-1.13.1 mistralai-1.9.10 opentelemetry-api-1.36.0 opentelemetry-instrumentation-0.57b0 opentelemetry-instrumentation-threading-0.57b0 opentelemetry-sdk-1.36.0 opentelemetry-semantic-conventions-0.57b0 pydantic-2.11.7 pydantic-core-2.33.2 pydantic-settings-2.10.1 python-dotenv-1.1.1 python-multipart-0.0.20 readabilipy-0.3.0 slack-bolt-1.25.0 slack_sdk-3.36.0 sse-starlette-3.0.2 strands-agents-1.7.1 strands-agents-tools-0.2.6 typing-inspection-0.4.1\n"
     ]
    }
   ],
   "source": [
    "!pip install python-dotenv strands-agents[mistral] strands-agents-tools tqdm "
   ]
  },
  {
   "cell_type": "code",
   "execution_count": 2,
   "id": "1b923cf9-4016-4ab4-85d3-fdf8756caf4f",
   "metadata": {
    "scrolled": true
   },
   "outputs": [],
   "source": [
    "!aws s3 cp s3://gdsc25test/ . --recursive --quiet"
   ]
  },
  {
   "cell_type": "code",
   "execution_count": 1,
   "id": "bac1fc8c-22b5-4684-a097-58f349a467e5",
   "metadata": {},
   "outputs": [
    {
     "data": {
      "text/plain": [
       "True"
      ]
     },
     "execution_count": 1,
     "metadata": {},
     "output_type": "execute_result"
    }
   ],
   "source": [
    "import json\n",
    "import os\n",
    "import boto3\n",
    "import dotenv\n",
    "import requests\n",
    "\n",
    "from concurrent.futures import ThreadPoolExecutor\n",
    "from pathlib import Path\n",
    "from typing import Dict, List, Optional, Tuple, Type, TypeVar\n",
    "from tqdm import tqdm\n",
    "from pydantic import BaseModel, Field\n",
    "from strands.agent import Agent\n",
    "from strands.models.mistral import MistralModel\n",
    "\n",
    "\n",
    "T = TypeVar('T')\n",
    "M = TypeVar('M', bound=BaseModel)\n",
    "\n",
    "dotenv.load_dotenv(\"env\")"
   ]
  },
  {
   "cell_type": "markdown",
   "id": "51ab7d91-2e1f-43ab-9235-3e591ac70c3b",
   "metadata": {},
   "source": [
    "# Utilities"
   ]
  },
  {
   "cell_type": "code",
   "execution_count": 2,
   "id": "1b9e4f29-84cb-4ad3-b657-4f9a4202f34a",
   "metadata": {},
   "outputs": [],
   "source": [
    "def get_agent(system_prompt: str = \"\") -> Agent:\n",
    "    model = MistralModel(\n",
    "        api_key=os.environ[\"MISTRAL_API_KEY\"],\n",
    "        model_id=\"mistral-large-latest\",\n",
    "        stream=False\n",
    "    )\n",
    "    return Agent(model=model, system_prompt=system_prompt, callback_handler=None)\n",
    "\n",
    "def load_file_content(path: str | Path) -> str:\n",
    "    path = Path(path)\n",
    "    with path.open('r', encoding='utf-8') as file:\n",
    "        return file.read()\n",
    "\n",
    "def get_job_paths() -> List[Path]:\n",
    "    data_dir = Path('./sample/jobs') #Path('./Data/jobs')--------------------------------------------------------------------\n",
    "    paths = []\n",
    "    for file in data_dir.iterdir():\n",
    "        if file.name.startswith('job_') and file.suffix in ('.md'):\n",
    "            paths.append(file)\n",
    "    return paths\n",
    "\n",
    "def get_training_paths() -> List[Path]:\n",
    "    data_dir = Path('./sample/trainings') #Path('./Data/trainings') -------------------------------------------------------------------------\n",
    "    paths = []\n",
    "    for file in data_dir.iterdir():\n",
    "        if file.name.startswith('tr_') and file.suffix in ('.md',):\n",
    "            paths.append(file)\n",
    "    return paths"
   ]
  },
  {
   "cell_type": "markdown",
   "id": "4d30d5ab-955a-4369-98ad-21212596e831",
   "metadata": {},
   "source": [
    "# Data structures"
   ]
  },
  {
   "cell_type": "code",
   "execution_count": 12,
   "id": "5e6d8ec3-a275-4f1d-8d0d-a086c2e8780b",
   "metadata": {},
   "outputs": [],
   "source": [
    "class JobInfo(BaseModel):\n",
    "    domain: str = Field(default=\"\", description=\"Field or industry of the job\")\n",
    "    required_skills: List[str] = Field(default_factory=list, description=\"List of required skills for the job.\")\n",
    "    location: str = Field(default=\"\", description=\"Job location.\")\n",
    "    years_of_experience_required: str = Field(default=\"\", description=\"Years of experience required to get this job.\")\n",
    "\n",
    "class TrainingInfo(BaseModel):\n",
    "    domain: str = Field(default=\"\", description=\"Field or industry of the training outcome.\")\n",
    "    skill_acquired_and_level: tuple = Field(default_factory=tuple, description=\"A skill from the domain and the outcome level of it.\")\n",
    "\n",
    "\n",
    "class PersonaInfo(BaseModel):\n",
    "    name: str = Field(default=\"\", description=\"Persona's name\")\n",
    "    skills: List = Field(default_factory=list, description=\"List of tuples representing skills and their levels.\")\n",
    "    location: str = Field(default=\"\", description=\"Current location\")\n",
    "    age: str = Field(default=None, description=\"Age of the persona\")\n",
    "    years_of_experience: str = Field(default=\"\", description=\"Years of experience in a field.\")\n",
    "    domain: str = Field(default=\"\", description=\"Field or industry in which the persona wants to work in.\")\n",
    "\n",
    "    def job_fits(self, job_info: JobInfo) -> bool:\n",
    "        \"\"\"Check if the persona's skills match the job requirements.\"\"\"\n",
    "        agent = get_agent()\n",
    "        candidate_skills =  ', '.join(f\"{skill}: {level}\" for skill, level in self.skills)\n",
    "        job_skills = ', '.join(job_info.required_skills)\n",
    "        domain = self.domain\n",
    "        job_domain = job_info.domain\n",
    "        candidate_experience = self.years_of_experience\n",
    "        required_experience = job_info.years_of_experience_required\n",
    "        prompt = f\n",
    "        \"\"\"Based on the list of skills of the candidate and the list of skills\n",
    "        required for a job decide whether the candidate is a good fit.\n",
    "        Only match them if you are 90% sure that the person's domain: {domain} is same as job's domain: {job_domain}.\n",
    "        Candidate skills: {candidate_skills}\n",
    "        Candidate years of experience: {candidate_experience}\n",
    "        Years of expirience required for a job: {required_experience}\n",
    "        canidates domaine: {domain}\n",
    "        job domain: {job_domain}\n",
    "        Job skills: {job_skills}\n",
    "        \"\"\"\n",
    "        return agent.structured_output(BoolOut, prompt).result\n",
    "\n",
    "    def training_fits(self, training_info: TrainingInfo) -> bool:\n",
    "        \"\"\"Check if the persona could benefit from the training.\"\"\"\n",
    "        agent = get_agent()\n",
    "        persona_skills = \", \".join(f\"{skill}: {level}\" for skill, level in self.skills) #', '.join(self.skills)\n",
    "        domain = self.domain\n",
    "        training_domain = training_info.domain\n",
    "        prompt = f\"\"\"Based on the list of skills of the persona and the domain\n",
    "        assign only trainings that can only improve the current level of every persona skill.\n",
    "        (E.g. if a person has skill \"Typing\" on a basic level you can just assign \"Typing\" on a intermediate level.)\n",
    "        Only assign Intermediate level if current is Basic, or Advanced level if current is Intermediate.\n",
    "        Only match them if you are 90% sure that the person's domain: {domain} is same as training's domain: {training_domain}.\n",
    "        \n",
    "        Persona skills: {persona_skills}\n",
    "        \"\"\"\n",
    "        return agent.structured_output(BoolOut, prompt).result\n",
    "\n",
    "\n",
    "class BoolOut(BaseModel):\n",
    "    result: bool = Field(default=False, description=\"whether the condition is fulfilled or not\")"
   ]
  },
  {
   "cell_type": "markdown",
   "id": "7c5b96dd-be86-421e-93a8-73b0aafdf9a5",
   "metadata": {},
   "source": [
    "# Accessing agents"
   ]
  },
  {
   "cell_type": "code",
   "execution_count": 6,
   "id": "18fb9c0d-fe1a-4634-8ec8-6e3dc057fe6a",
   "metadata": {},
   "outputs": [],
   "source": [
    "def send_message_to_chat(message: str, persona_id: str, conversation_id: str = None) -> Optional[Tuple[str, str]]:\n",
    "    \"\"\"\n",
    "    Send a single message to the chat endpoint and return the response.\n",
    "\n",
    "    Args:\n",
    "        persona_id: ID of the persona\n",
    "        message: Message to send\n",
    "\n",
    "    Returns:\n",
    "        The response from the chat endpoint\n",
    "    \"\"\"\n",
    "    url = 'https://5xxe59fsr7.execute-api.eu-central-1.amazonaws.com/main/chat'\n",
    "    headers = {\n",
    "        \"x-api-key\": os.environ[\"AWS_API_KEY\"]\n",
    "    }\n",
    "    payload = {\n",
    "        \"message\": message,\n",
    "        \"persona_id\": persona_id,\n",
    "        \"conversation_id\": conversation_id,\n",
    "        \"team_id\": \"ArturTeam\",\n",
    "    }\n",
    "\n",
    "    response = requests.post(\n",
    "        url=url,\n",
    "        json=payload,\n",
    "        headers=headers\n",
    "    )\n",
    "\n",
    "    if response.status_code != 200:\n",
    "        print(f\"Err: {response}, {persona_id}, {response.text}\")\n",
    "        return None\n",
    "\n",
    "    response_data = response.json()\n",
    "    return response_data['response'], response_data['conversation_id']\n",
    "\n",
    "\n",
    "def get_conversation(persona_id: str, max_turns: int = 5, verbose: bool = True) -> List[str]:\n",
    "    \"\"\"\n",
    "    Perform a conversation with a single persona for a maximum number of turns.\n",
    "\n",
    "    Args:\n",
    "        persona_id: ID of the persona\n",
    "        max_turns: Maximum number of conversation turns (default: 5)\n",
    "\n",
    "    Returns:\n",
    "        List of conversation messages\n",
    "    \"\"\"\n",
    "    system_prompt = \"\"\"\n",
    "    **Speak only in english.**\n",
    "    **Do not give info from the internet.** \n",
    "    Continue to ask questions about this person - do not provide the jobs, trainings or anything yet.\n",
    "    You are a helpful and empathetic assistant. Your goal is to engage in a natural conversation with a persona to gather the following information:\n",
    "    - Their name\n",
    "    - Their skills and **level of this skill**\n",
    "    - Their current location\n",
    "    - Their age\n",
    "    - Their preferences\n",
    "    - Years of experience\n",
    "    \n",
    "    Remember to always gather all of those information!\n",
    "    Ask open-ended questions to encourage detailed responses. Be polite, patient, and adapt your questions based on their answers.\n",
    "    If the persona is unsure or vague, gently probe for more details. Do not ask all questions at once; let the conversation flow naturally.\n",
    "    **Do not comment on whatever the response is. Just ask questions to retrieve the information.**\n",
    "    **Focus only on asking question about persona. Do not provide any additional info from the internet.**\n",
    "    \"\"\"\n",
    "\n",
    "    \n",
    "    conversation = []\n",
    "    current_turn = 0\n",
    "    converation_agent = get_agent(system_prompt)\n",
    "    conversation_id = None\n",
    "\n",
    "    # greeting\n",
    "    agent_message = \"Hello! I'm here to help you find the best job or training opportunities. Can you tell me your name?\"\n",
    "    converation_agent.messages = [{\n",
    "        \"role\": \"assistant\",\n",
    "        \"content\": [{\n",
    "            \"text\": agent_message\n",
    "        }]\n",
    "    }]\n",
    "    conversation.append(f\"Assistant: {agent_message}\")\n",
    "\n",
    "    while current_turn < max_turns:\n",
    "        user_response, conversation_id = send_message_to_chat(\n",
    "            agent_message,\n",
    "            persona_id,\n",
    "            conversation_id\n",
    "        )\n",
    "        if user_response is None:\n",
    "            print(f\"User: {persona_id} did not respond\")\n",
    "            break\n",
    "        elif verbose:\n",
    "            print(f\"Response: {user_response}\\n\\n\")\n",
    "        conversation.append(f\"User: {user_response}\")\n",
    "        agent_message = str(converation_agent(user_response))\n",
    "        conversation.append(f\"Assistant: {agent_message}\")\n",
    "        current_turn += 1\n",
    "    print(f'Conversation for persona: {persona_id} DONE')\n",
    "    return conversation\n",
    "\n",
    "#maybe pararel_conversations() ?\n",
    "def get_conversations(persona_ids: List[str], max_workers: int = 10, verbose: bool = False, max_turns: int = 5) -> Dict[str, List[str]]:\n",
    "    all_conversations = {}\n",
    "    with ThreadPoolExecutor(max_workers=max_workers) as executor:\n",
    "        futures = {\n",
    "            executor.submit(get_conversation, persona_id, verbose=verbose, max_turns=max_turns): persona_id\n",
    "            for persona_id in persona_ids\n",
    "        }\n",
    "        for future in futures:\n",
    "            persona_id = futures[future]\n",
    "            try:\n",
    "                all_conversations[persona_id] = future.result()\n",
    "            except Exception as e:\n",
    "                print(f\"Error occurred for {persona_id}: {e}\")\n",
    "    return all_conversations\n",
    "\n"
   ]
  },
  {
   "cell_type": "markdown",
   "id": "0a161f43-dfc3-497b-bf3b-fa94599c1356",
   "metadata": {},
   "source": [
    "# Extracting information"
   ]
  },
  {
   "cell_type": "code",
   "execution_count": 4,
   "id": "4d910534-9f94-4dcd-8716-6bb49fd39bd2",
   "metadata": {},
   "outputs": [],
   "source": [
    "def extract_info(model: Type[M], text: str) -> M:\n",
    "    extraction_agent = get_agent()\n",
    "    return extraction_agent.structured_output(output_model=model, prompt=text)\n",
    "\n",
    "def extract_info_from_conversation(conversation: List[str]) -> PersonaInfo:\n",
    "    text = '\\n'.join(conversation)\n",
    "    return extract_info(PersonaInfo, text)\n",
    "\n",
    "\n",
    "def extract_info_from_job_path(path: str | Path) -> JobInfo:\n",
    "    text = load_file_content(path)\n",
    "    return extract_info(JobInfo, text)\n",
    "\n",
    "\n",
    "def extract_info_from_training_path(path: str | Path) -> TrainingInfo:\n",
    "    text = load_file_content(path)\n",
    "    return extract_info(TrainingInfo, text)"
   ]
  },
  {
   "cell_type": "code",
   "execution_count": 8,
   "id": "d40cf815-9757-4e7e-a7d4-5f223f2588a0",
   "metadata": {},
   "outputs": [],
   "source": [
    "# conversation = get_conversation('per1', max_turns=2)"
   ]
  },
  {
   "cell_type": "code",
   "execution_count": 9,
   "id": "65beb066-ba31-42f6-b3d5-aa5bd1e37b5c",
   "metadata": {},
   "outputs": [],
   "source": [
    "# persona_info = extract_info_from_conversation(conversation)\n",
    "# persona_info"
   ]
  },
  {
   "cell_type": "markdown",
   "id": "f4a4557e-fd73-437c-b1d0-f54b308e6dc8",
   "metadata": {},
   "source": [
    "## Testing the persona with  trainig only"
   ]
  },
  {
   "cell_type": "code",
   "execution_count": 14,
   "id": "403be273-d979-43e3-8e77-6baffda2ca56",
   "metadata": {},
   "outputs": [
    {
     "name": "stdout",
     "output_type": "stream",
     "text": [
      "Conversation for persona: persona_005 DONE\n",
      "persona_005\n"
     ]
    }
   ],
   "source": [
    "persona_training_only = [\"persona_005\"] #pers_foo_003\n",
    "\n",
    "persona_conversations = get_conversations(persona_training_only, max_workers=1, max_turns=5)\n",
    "\n",
    "persona_infos = {\n",
    "    persona_id: extract_info_from_conversation(con)\n",
    "    for persona_id, con in persona_conversations.items()\n",
    "}\n",
    "\n",
    "for info in persona_infos:\n",
    "    print(info)"
   ]
  },
  {
   "cell_type": "code",
   "execution_count": 15,
   "id": "434fc1ed-f0a7-4352-be40-ec3ab994e1d1",
   "metadata": {},
   "outputs": [
    {
     "data": {
      "text/plain": [
       "{'persona_005': PersonaInfo(name='Pedro Araújo', skills=[(['Food Safety', 'Food Sustainability', 'Food Production'], ['Intermediate', 'Intermediate', 'Intermediate']), (['Regulatory Compliance', 'Process Optimization', 'Hands-on Technical Abilities'], ['Intermediate', 'Intermediate', 'Intermediate'])], location='Brasília', age='16', years_of_experience='1', domain='Food Industry')}"
      ]
     },
     "execution_count": 15,
     "metadata": {},
     "output_type": "execute_result"
    }
   ],
   "source": [
    "persona_infos"
   ]
  },
  {
   "cell_type": "markdown",
   "id": "0442defd-a1c9-4839-9145-d5b9c1bcaa14",
   "metadata": {},
   "source": [
    "## Testing perosna with job but empty trainig list (job_trainig flag)"
   ]
  },
  {
   "cell_type": "code",
   "execution_count": 37,
   "id": "ad2a66e1-fa23-4920-a5be-2d35f6b03afb",
   "metadata": {},
   "outputs": [
    {
     "name": "stdout",
     "output_type": "stream",
     "text": [
      "Conversation for persona: persona_003 DONE\n",
      "persona_003\n"
     ]
    }
   ],
   "source": [
    "# perosna_job_only = [\"persona_003\"] #pers_foo_002\n",
    "\n",
    "# persona_conversations = get_conversation(\"persona_003\", max_turns=5)\n",
    "\n",
    "# persona_conversations = get_conversations(perosna_job_only, max_workers=1, max_turns=5)\n",
    "\n",
    "# persona_infos = {\n",
    "#     persona_id: extract_info_from_conversation(con)\n",
    "#     for persona_id, con in persona_conversations.items()\n",
    "# }\n",
    "\n",
    "# for info in persona_infos:\n",
    "#     print(info)"
   ]
  },
  {
   "cell_type": "markdown",
   "id": "b5b9597f-0604-444d-8ffb-851dc41069a7",
   "metadata": {},
   "source": [
    "## Testing the persona with jobs and trainigs"
   ]
  },
  {
   "cell_type": "code",
   "execution_count": 6,
   "id": "fe0d8664-952e-42c6-9231-6b3332f7adeb",
   "metadata": {},
   "outputs": [
    {
     "name": "stdout",
     "output_type": "stream",
     "text": [
      "Conversation for persona: persona_004 DONE\n",
      "persona_004\n"
     ]
    }
   ],
   "source": [
    "# perosna_job_and_training = [\"persona_004\"] #pers_foo_001\n",
    "# persona_conversations = get_conversations(perosna_job_and_training, max_workers=1, max_turns=5)\n",
    "\n",
    "# persona_infos = {\n",
    "#     persona_id: extract_info_from_conversation(con)\n",
    "#     for persona_id, con in persona_conversations.items()\n",
    "# }\n",
    "\n",
    "# for info in persona_infos:\n",
    "#     print(info)"
   ]
  },
  {
   "cell_type": "code",
   "execution_count": 14,
   "id": "ce930b2a-26af-43e7-8bb0-101d26d197f6",
   "metadata": {},
   "outputs": [
    {
     "name": "stderr",
     "output_type": "stream",
     "text": [
      "\n",
      "KeyboardInterrupt\n",
      "\n"
     ]
    }
   ],
   "source": [
    "awerness_perosna = [\"persona_001\"] #pers_foo_005\n",
    "persona_conversations = get_conversations(awerness_perosna, max_workers=1, max_turns=5)\n",
    "\n",
    "persona_infos = {\n",
    "    persona_id: extract_info_from_conversation(con)\n",
    "    for persona_id, con in persona_conversations.items()\n",
    "}\n",
    "\n",
    "for info in persona_infos:\n",
    "    print(info)"
   ]
  },
  {
   "cell_type": "code",
   "execution_count": 7,
   "id": "9a6a5d59-988e-4581-bdda-848931481092",
   "metadata": {},
   "outputs": [
    {
     "name": "stderr",
     "output_type": "stream",
     "text": [
      "Exception in thread ThreadPoolExecutor-0_1:\n",
      "Traceback (most recent call last):\n",
      "  File \"/home/ec2-user/anaconda3/envs/python3/lib/python3.10/threading.py\", line 1016, in _bootstrap_inner\n",
      "    self.run()\n",
      "  File \"/home/ec2-user/anaconda3/envs/python3/lib/python3.10/site-packages/opentelemetry/instrumentation/threading/__init__.py\", line 150, in __wrap_threading_run\n",
      "    token = context.attach(instance._otel_context)\n",
      "AttributeError: 'Thread' object has no attribute '_otel_context'\n"
     ]
    },
    {
     "name": "stdout",
     "output_type": "stream",
     "text": [
      "Conversation for persona: persona_050 DONE\n",
      "Conversation for persona: persona_053 DONE\n",
      "Conversation for persona: persona_030 DONE\n"
     ]
    },
    {
     "data": {
      "text/plain": [
       "{'persona_050': [\"Assistant: Hello! I'm here to help you find the best job or training opportunities. Can you tell me your name?\",\n",
       "  'User: I’m André Araújo. Nice to meet you.',\n",
       "  'Assistant: Nice to meet you too, André! It’s great to have you here.\\n\\nCould you tell me a bit about where you’re currently living? For example, the city or region—whatever you’re comfortable sharing.\\n',\n",
       "  'User: I live in Curitiba. I don’t want to move anywhere else.',\n",
       "  'Assistant: That’s great to know, André. Curitiba is a wonderful city.\\n\\nCould you share a little about what you do or what skills you’ve developed over time? For example, are there any areas where you feel particularly strong or experienced?\\n',\n",
       "  'User: I don’t have work experience yet. I just like numbers and organizing things.',\n",
       "  'Assistant: I see. When you say you like numbers and organizing things, what kind of activities do you enjoy most? For example, do you work with spreadsheets, budgets, or maybe planning tasks?\\n\\nAlso, how would you rate your confidence level in these areas—beginner, intermediate, or more advanced?\\n',\n",
       "  'User: I sometimes help my mom with small calculations for the house. Like adding up bills or making lists. I’m a beginner, but I learn fast.',\n",
       "  'Assistant: That’s a great start, André! Helping with calculations and lists shows you have practical experience.\\n\\nHow old are you, if you don’t mind me asking?\\n\\nAlso, when you think about working with numbers or organizing things in the future, what kind of tasks or environments do you imagine enjoying the most? For example, do you prefer working alone, in a team, or with specific tools?\\n',\n",
       "  'User: I’m 13. I imagine working in an office, maybe with a computer. I’m not sure if I’d like to work alone or with others yet.',\n",
       "  'Assistant: Thanks for sharing that, André.\\n\\nWhen you think about using a computer for work, are there any programs or types of tasks you’ve tried or would like to learn? For example, spreadsheets, databases, or even organizing files?\\n\\nAlso, do you have any hobbies or subjects in school that you enjoy the most?\\n',\n",
       "  'User: I used Excel once for a school project. It was fun. My favorite subject is math.',\n",
       "  'Assistant: That sounds like a great fit with your interest in numbers!\\n\\nWhen you used Excel for your school project, what kind of things did you do with it? For example, did you make tables, charts, or use any formulas?\\n\\nAnd how long have you been enjoying math as your favorite subject?\\n',\n",
       "  'User: I made a table for grades and used a formula to calculate the average. Math has always been my favorite, but I pay more attention now.',\n",
       "  'Assistant: What do you like most about working with formulas and tables in Excel? For example, is it the problem-solving part, seeing the results, or something else?\\n\\nAnd when you say you’ve been paying more attention to math now, what kinds of topics or problems do you find most interesting?\\n',\n",
       "  'User: I like when the numbers make sense in the end. Simple additions or averages are easy to check. In school, I like word problems because they feel real.',\n",
       "  'Assistant: That makes a lot of sense, André.\\n\\nWhen you solve word problems, do you usually work through them step by step on paper, or do you prefer doing the calculations in your head or with a calculator?\\n\\nAlso, besides math and organizing things, are there any other activities or subjects you enjoy doing in your free time?\\n',\n",
       "  'User: I write it down first, then check with a calculator. In my free time, I read books about science sometimes.',\n",
       "  'Assistant: What kinds of science topics do you enjoy reading about the most? For example, is it space, animals, technology, or something else?\\n\\nAnd when you’re working on math problems or organizing things, do you ever set small goals for yourself, like finishing a certain number of problems or keeping things in order for a week?\\n',\n",
       "  'User: I like books about how things work, like machines or the human body. I don’t really set goals, but I try to finish what I start.',\n",
       "  'Assistant: That’s really interesting! When you read about how things work, do you ever try to apply that knowledge in any way—like fixing something, building a small project, or even just explaining it to someone else?\\n\\nAnd when you’re working with numbers or organizing, do you prefer doing it in short bursts or do you like to take your time and focus for longer periods?\\n'],\n",
       " 'persona_053': [\"Assistant: Hello! I'm here to help you find the best job or training opportunities. Can you tell me your name?\",\n",
       "  'User: Oh, hey! I’m Lucas Ferreira. Nice to meet you. I’ve been trying to figure out what kind of training to take next, but I’m kinda stuck between a few options. You think you could help me sort that out?',\n",
       "  'Assistant: Thanks for sharing your name, Lucas! It’s great to meet you too.\\n\\nTo start, could you tell me a bit about the skills you already have? For example, what are some things you’re really good at, and how comfortable would you say you are with them—like beginner, intermediate, or advanced?\\n',\n",
       "  'User: Well, I’m not gonna lie, I’m pretty new to all this. The only thing I’ve got some experience with is data interpretation—like reading reports and basic spreadsheets? But it’s really just the basics, you know? I wouldn’t say I’m intermediate or anything.\\n\\nI’ve been thinking maybe I should get better at that before jumping into anything else. But honestly, I’m not even sure if I should focus on accounting or try something more like data analysis or IT. What’s the difference anyway?',\n",
       "  'Assistant: Got it, Lucas. It’s great that you’re exploring different paths.\\n\\nCould you tell me how long you’ve been working with data interpretation, even at a basic level? And what kind of reports or spreadsheets have you worked with so far—were they for work, school, or personal projects?\\n\\nAlso, where are you currently located? Sometimes opportunities can depend on that.\\n',\n",
       "  'User: Oh, it’s not from work or anything—I’ve just been messing around with some personal stuff, like tracking my expenses in Excel and trying to make sense of bank statements. Nothing fancy, just basic tables and maybe a simple graph here and there. Been doing that for like 6 months, I guess?\\n\\nI’m in Brasília, and I’m not really looking to move, so yeah, whatever training I do has to be here or online. My family keeps saying I should just get any job fast, but I wanna make sure I’m learning something useful first, you know? Like, is data interpretation even enough to get into accounting, or should I be looking at other stuff too?',\n",
       "  'Assistant: Thanks for sharing that, Lucas.\\n\\nHow old are you, if you don’t mind me asking? And when you think about the kind of work you’d like to do, what’s most important to you? For example, do you prefer working independently or with a team? Do you like structured tasks or more creative problem-solving? Or is there something else that matters to you in a job?\\n',\n",
       "  'User: I’m 28, by the way. Kinda feel like I’m late to the game compared to others, but whatever, right?\\n\\nI think I’d like something structured—like clear rules and steps to follow. Teams are cool, but I don’t wanna be the guy who slows everyone down ‘cause I’m still learning. And honestly, I just wanna make sure I’m not wasting time on training that won’t actually help me get a decent junior role later. Like, is data interpretation enough, or do I need to learn auditing stuff too? My friends say I should just pick anything and run with it, but I don’t wanna mess up.',\n",
       "  'Assistant: Got it, Lucas.\\n\\nWhen you think about a junior role, what kind of work environment do you picture yourself in? For example, do you see yourself in an office, working remotely, or something else? Also, how do you feel about working with numbers and details for most of the day? Does that sound appealing to you, or would you prefer something with a bit more variety?\\n',\n",
       "  'User: Man, I don’t even know—I guess an office would be fine, but I’ve never actually worked in one, so who knows? Remote could be cool too, but I feel like I’d need someone to ask questions to when I’m stuck, you know?\\n\\nAnd yeah, numbers are okay. I mean, I don’t hate ‘em, but I’m not some math genius either. I just wanna be able to understand reports and spot if something’s off. Like, if I take a training in data interpretation, would that actually help me in accounting, or is it more for IT people? I don’t wanna end up in the wrong field just ‘cause I didn’t ask the right questions.',\n",
       "  'Assistant: What’s your biggest concern about choosing the wrong training or job path right now? Is it the time you’d spend learning, the money you might invest, or something else?\\n\\nAnd just to clarify, when you’ve worked with spreadsheets and reports before, what part did you find the most interesting or the easiest to pick up? Was it organizing the data, analyzing trends, or something else?\\n',\n",
       "  'User: My biggest worry is wasting time, honestly. I’m already 28, and if I pick the wrong training, I might end up even further behind. Like, what if I spend months learning data stuff and then find out accounting firms don’t even care about that?\\n\\nThe easiest part for me was spotting patterns—like when my expenses shot up in a month, I could usually figure out why pretty quick. But analyzing trends? That’s where I get lost. I don’t know the right formulas or how to tell if a number is *actually* important or just random noise. That’s why I thought training might help, but I don’t wanna jump into something blind. You think accounting or auditing would value that kind of skill?',\n",
       "  'Assistant: When you think about your ideal first job, what’s the one thing you’d want to feel confident doing on day one? For example, is it preparing reports, checking for errors in data, or something else?\\n\\nAnd how do you usually learn best—through hands-on practice, watching tutorials, reading guides, or something else? That might help figure out what kind of training would suit you.\\n',\n",
       "  'User: I’d wanna feel like I could at least *check* if numbers make sense, you know? Like if someone handed me a simple report, I wouldn’t wanna freeze up trying to figure out if it’s correct or not.\\n\\nAnd honestly, I learn best by doing—like if someone shows me once and then lets me try it myself. Videos are cool, but if I don’t actually *do* it, I forget everything in two days. That’s why I’m kinda leaning toward a training that’s got practical exercises, not just theory. But again, I don’t wanna pick the wrong thing and regret it later. You think accounting or auditing would let me start with that kind of hands-on stuff?',\n",
       "  'Assistant: What’s your current daily routine like, Lucas? For example, how much time could you realistically dedicate to training each week without feeling overwhelmed?\\n\\nAnd when you imagine yourself in a junior role, what’s the first task you’d want to master—like reconciling numbers, entering data, or reviewing simple documents?\\n',\n",
       "  'User: Right now, I’ve got a lot of free time ‘cause I’m not working, so I could probably do like 3-4 hours a day, maybe more if it’s really hands-on. But I don’t wanna burn out either, you know?\\n\\nThe first thing I’d wanna master is probably checking if numbers match up—like comparing two spreadsheets to make sure they’re not messed up. That seems like the kind of thing every accounting job would need, right? But I’m not sure if that’s data interpretation or auditing or what. Maybe I’m overcomplicating it. Do you think a short training could cover that, or is it something you only learn on the job?',\n",
       "  'Assistant: If you had to pick *one* area to focus on first—just to get your foot in the door—would you rather start with:\\n- **Basic bookkeeping** (like recording transactions, tracking expenses, or preparing simple financial reports), *or*\\n- **Data checking** (like spotting errors in spreadsheets, verifying numbers, or helping with basic audits)?\\n\\nAnd what’s your biggest hesitation about jumping into a training program right now? Is it the cost, the time commitment, or something else?\\n',\n",
       "  'User: I’d probably go with data checking—like spotting errors and making sure numbers add up. Feels like that’s something I could actually get the hang of without needing a ton of theory first.\\n\\nMy biggest hesitation is just… what if the training doesn’t actually teach me what employers want? Like, I don’t wanna spend time and maybe even money on something that’s too basic or too advanced. And honestly, my family keeps saying I should just get any job instead of studying, so that pressure doesn’t help. But I wanna do this right, you know? Maybe start with something short and practical. You think that’s a dumb idea?',\n",
       "  'Assistant: What’s the *smallest* step you could take this week to test if data checking is the right path for you? For example, could you try a free online exercise, ask someone in the field for advice, or even practice with mock spreadsheets?\\n\\nAnd when you think about your first job in this area, what’s the *minimum* skill level you’d need to feel ready to apply? Like, would you want to be fully confident, or would you be okay learning some things on the job?\\n',\n",
       "  'User: Maybe I could find some free Excel exercises online—like those mock spreadsheets with errors to fix. That’d at least give me an idea if I’m terrible at it or not, right?\\n\\nAnd honestly, I don’t need to be some expert, but I’d wanna know enough to not look completely lost on day one. Like, if they ask me to check a simple report, I wouldn’t wanna stare at it like an idiot. But I get that I’ll have to learn a lot on the job too. Maybe I’m just overthinking it. Do you think a basic data interpretation course would cover that, or should I look for something more specific?',\n",
       "  'Assistant: If you were to describe your ideal first training or course in just a few words, what would it include? For example:\\n- *\"Hands-on exercises with real-world examples\"*\\n- *\"Step-by-step guidance for beginners\"*\\n- *\"Focus on spotting errors in financial data\"*\\n- Something else?\\n\\nAnd how soon would you want to start applying for jobs after finishing a training—like right away, or would you want to practice more first?\\n'],\n",
       " 'persona_030': [\"Assistant: Hello! I'm here to help you find the best job or training opportunities. Can you tell me your name?\",\n",
       "  'User: Uh, I’m Thiago. Thiago Souza.',\n",
       "  'Assistant: Nice to meet you, Thiago! To get started, could you tell me a bit about where you’re currently living? What city or region are you in?\\n',\n",
       "  'User: I live in Salvador. Don’t want to move.',\n",
       "  'Assistant: That’s great to know, Thiago. Salvador is a wonderful city! How old are you, if you don’t mind me asking?\\n',\n",
       "  'User: I’m 18. Just finished técnico.',\n",
       "  'Assistant: Got it. Since you’ve just finished your *técnico*, what kinds of skills did you develop during that time? Could you describe them and how comfortable you feel using them now? For example, are there any you’d consider yourself really strong in, or others you’re still building confidence with?\\n',\n",
       "  'User: I know circuit design well. Power systems, a bit less. Safety rules, just basics.',\n",
       "  'Assistant: How many years of hands-on experience do you have with circuit design? And when you say you know it \"well,\" would you say you’re at a level where you could troubleshoot or design circuits independently, or do you still prefer guidance on more complex tasks?\\n',\n",
       "  'User: 3 years messing with circuits. I can design simple ones alone, but complex stuff... I’d need help.',\n",
       "  'Assistant: Got it. Besides technical skills, what kind of work environment do you prefer? For example:\\n- Do you like working in teams or alone?\\n- Do you prefer structured routines or more flexible tasks?\\n- Are there any specific industries or types of companies you’d *avoid*?\\n',\n",
       "  'User: Not sure about work yet. Maybe I should do training first? But I don’t know... I just want to understand how sustainability consultants work with electricity stuff. Like, power systems or circuits. Do they even do that?',\n",
       "  'Assistant: What makes you curious about sustainability consulting in relation to electricity? Is it the environmental impact, the technical side, or something else?\\n\\nAlso, when you think about training—what kind of format would suit you best? Hands-on workshops, online courses, or something more structured like a certification program?\\n',\n",
       "  'User: I like the technical side. Like, how do they make power systems or circuits more... green? Less waste? Training sounds hard. Maybe I’m not ready. I just want to know what they *do* all day.',\n",
       "  'Assistant: What’s your current comfort level with learning new technical concepts? For example, if a training program included topics like energy efficiency in circuits or renewable energy integration, would you feel confident diving in, or would you prefer starting with something more foundational?\\n\\nAnd just to clarify—when you say you’re curious about what sustainability consultants \"do all day,\" are you more interested in the day-to-day tasks (like meetings, reports, fieldwork) or the specific technical problems they solve?\\n',\n",
       "  'User: The technical problems. Like, do they change how circuits are designed? Or how power grids work? I can learn new things if it’s hands-on. But I don’t want a long course. Just examples.',\n",
       "  'Assistant: Got it. If you were to shadow a sustainability consultant for a day, what’s *one* technical challenge you’d want to see them solve? For example:\\n- Redesigning a circuit to cut energy waste?\\n- Troubleshooting a solar panel system’s efficiency?\\n- Or something else entirely?\\n\\n*(Also, just to confirm—when you say \"hands-on,\" do you mean in-person labs, simulations, or working with actual equipment?)*\\n',\n",
       "  'User: I’d want to see how they make a circuit use less power but still work the same. Hands-on like... real tools, real circuits. Not just watching videos. But I don’t need to do it myself. Just watch.',\n",
       "  'Assistant: If you could watch someone optimize a circuit for energy efficiency, what kind of circuit would you want to see? For example:\\n- A small-scale circuit, like for a household appliance?\\n- Something industrial, like a motor control system?\\n- Or maybe a renewable energy setup, like a wind turbine’s power converter?\\n\\n*(And just to wrap up—when you think about your ideal next step, would you prefer something short-term, like a workshop or demo, or are you open to a slightly longer program if it’s mostly hands-on?)*\\n',\n",
       "  'User: Maybe a small circuit first. Like a phone charger or LED light. Something simple. And no, no long programs. Just a quick demo or someone explaining how they do it. That’s enough for me.',\n",
       "  'Assistant: Thanks for sharing that, Thiago. One last thing—when you think about your schedule, how much time could you realistically dedicate to something like this in a week? For example:\\n- A few hours in one day?\\n- Or spread out over a couple of short sessions?\\n']}"
      ]
     },
     "execution_count": 7,
     "metadata": {},
     "output_type": "execute_result"
    }
   ],
   "source": [
    "persona_ids = [\"persona_050\", \"persona_053\", \"persona_030\"] # \"persona_033\", \"persona_022\", \"persona_096\", \"persona_080\", \"persona_082\", \"persona_078\", \"persona_079\"]\n",
    "#persona_ids = [\"persona_039\"]\n",
    "persona_conversations = get_conversations(persona_ids, max_workers=3, max_turns=10)\n",
    "persona_conversations\n",
    "# persona_infos = {\n",
    "#     persona_id: extract_info_from_conversation(con)\n",
    "#     for persona_id, con in persona_conversations.items()\n",
    "# }\n",
    "\n",
    "# for info in persona_infos:\n",
    "#     print(info)\n",
    "\n",
    "#AFTER ITS DONE IT SHOULD GIVE A RECOMENDATION-------------------------\n"
   ]
  },
  {
   "cell_type": "code",
   "execution_count": 13,
   "id": "d9f0b62b-b355-4756-9ad7-66ca1a1e0c45",
   "metadata": {},
   "outputs": [
    {
     "name": "stdout",
     "output_type": "stream",
     "text": [
      "Conversation for persona: persona_006 DONE\n",
      "Conversation for persona: persona_004 DONE\n",
      "Conversation for persona: persona_008 DONE\n",
      "Conversation for persona: persona_002 DONE\n",
      "Conversation for persona: persona_001 DONE\n",
      "Conversation for persona: persona_007 DONE\n",
      "Conversation for persona: persona_010 DONE\n",
      "Conversation for persona: persona_009 DONE\n",
      "Conversation for persona: persona_003 DONE\n",
      "Conversation for persona: persona_005 DONE\n",
      "Processed persona_001\n",
      "Processed persona_002\n",
      "Processed persona_003\n",
      "Processed persona_004\n",
      "Processed persona_005\n",
      "Processed persona_006\n",
      "Processed persona_007\n",
      "Processed persona_008\n",
      "Processed persona_009\n",
      "Processed persona_010\n",
      "name='Rafael Ribeiro' skills=[{'skill': 'Following instructions', 'level': 'Good'}, {'skill': 'Cleaning', 'level': 'Basic experience with soap and water'}, {'skill': 'Teamwork', 'level': 'Enjoys group work'}, {'skill': 'Observational learning', 'level': 'Prefers watching and hands-on activities'}] location='São Paulo' age='21' years_of_experience='0' domain='Food safety and machinery operation'\n",
      "name='Mariana Costa' skills=[{'skill': 'waste reduction basics', 'level': 'intermediate'}] location='Recife' age='21' years_of_experience='0' domain='waste reduction for food industry'\n",
      "name='Mateus Silva' skills=[{'skill': 'Recipe Scaling', 'level': 'Intermediate'}, {'skill': 'Quality Inspection', 'level': 'Intermediate'}, {'skill': 'Waste Reduction', 'level': 'Intermediate'}, {'skill': 'Inventory Management', 'level': 'Beginner'}, {'skill': 'Data Analysis', 'level': 'Beginner'}] location='Recife' age='26' years_of_experience='2' domain='Food Industry'\n",
      "name='Rafael Gomes' skills=[{'skill': 'sensory testing', 'level': 'intermediate'}, {'skill': 'food safety', 'level': 'basic'}] location='Rio de Janeiro' age='27' years_of_experience='1' domain='food industry'\n",
      "name='Pedro Araújo' skills=[{'skill': 'Fermentation', 'level': 'Intermediate'}, {'skill': 'Food Preservation', 'level': 'Intermediate'}, {'skill': 'Data Analysis', 'level': 'Intermediate'}, {'skill': 'Python', 'level': 'Intermediate'}, {'skill': 'Food Chemistry', 'level': 'Beginner'}] location='Brasília' age='16' years_of_experience='1' domain='Food Industry'\n",
      "name='Carla Melo' skills=[{'skill': 'Painting', 'level': '4-5'}, {'skill': 'Composition', 'level': 'Beginner'}, {'skill': 'Running', 'level': 'Intermediate'}] location='Belo Horizonte' age='16' years_of_experience='1' domain='Art'\n",
      "name='Unknown' skills=[{'skill': 'Sketching', 'level': 'Intermediate'}, {'skill': 'Guitar Playing', 'level': 'Intermediate'}] location='Brasília' age='Unknown' years_of_experience='8 years in guitar playing' domain='Art, Music'\n",
      "name='João Ribeiro' skills=[['drawing', 'beginner'], ['digital design', 'none'], ['character design', 'beginner']] location='Belo Horizonte' age='16' years_of_experience='None professionally, but has been doodling since childhood' domain='Visual Arts'\n",
      "name='Lucas' skills=[{'skill': 'Painting', 'level': 'Intermediate'}, {'skill': 'Composition', 'level': 'Advanced'}, {'skill': 'Drawing', 'level': 'Intermediate'}, {'skill': 'Guitar', 'level': 'Beginner'}] location='Rio de Janeiro' age='26' years_of_experience='3' domain='Art'\n",
      "name='Felipe Ribeiro' skills=[{'skill': 'acrylics', 'level': 'advanced'}, {'skill': 'oils', 'level': 'advanced'}, {'skill': 'digital sketches', 'level': 'beginner'}, {'skill': 'cooking', 'level': 'intermediate'}] location='São Paulo' age='26' years_of_experience='3' domain='Art'\n"
     ]
    }
   ],
   "source": [
    "# Generate persona IDs from persona_001 to persona_100\n",
    "# persona_ids = [f\"persona_{i:03d}\" for i in range(1, 101)]\n",
    "persona_ids = [f\"persona_{i:03d}\" for i in range(1, 11)]\n",
    "\n",
    "# Directory to save conversations\n",
    "output_dir = \"conversations\"\n",
    "os.makedirs(output_dir, exist_ok=True)\n",
    "\n",
    "# Process in batches (e.g., batch size of 10)\n",
    "batch_size = 10\n",
    "persona_infos = {}\n",
    "\n",
    "for i in range(0, len(persona_ids), batch_size):\n",
    "    batch_ids = persona_ids[i:i + batch_size]\n",
    "    try:\n",
    "        # Get conversations for this batch with parallel workers\n",
    "        batch_conversations = get_conversations(batch_ids, max_workers=10, max_turns=10)\n",
    "        for persona_id, con in batch_conversations.items():\n",
    "            # Save conversation to file\n",
    "            filename = os.path.join(output_dir, f\"{persona_id}_conversation.txt\")\n",
    "            with open(filename, 'w') as f:\n",
    "                f.write(str(con))\n",
    "            # Extract info and add to persona_infos\n",
    "            persona_infos[persona_id] = extract_info_from_conversation(con)\n",
    "            print(f\"Processed {persona_id}\")\n",
    "    except Exception as e:\n",
    "        print(f\"Error processing batch starting with {batch_ids[0]}: {e}\")\n",
    "        continue\n",
    "\n",
    "# Now persona_infos contains information for all successfully processed personas\n",
    "for info in persona_infos.values():\n",
    "    print(info)"
   ]
  },
  {
   "cell_type": "code",
   "execution_count": 7,
   "id": "d2d30672-bae7-4c40-af80-6b6f24e19165",
   "metadata": {},
   "outputs": [
    {
     "name": "stderr",
     "output_type": "stream",
     "text": [
      "100%|██████████| 3/3 [00:04<00:00,  1.62s/it]\n"
     ]
    }
   ],
   "source": [
    "job_file_paths = get_job_paths()\n",
    "job_infos = {path.stem: extract_info_from_job_path(path) for path in tqdm(job_file_paths)}\n",
    "#list(job_infos.items())[0]\n",
    "\n",
    "#dodac zapisywanie jsonów do folderów job_infos.model_dump_json"
   ]
  },
  {
   "cell_type": "code",
   "execution_count": 8,
   "id": "11b9f0c6-6f9e-4219-a6ca-1f5c4ea7bdc4",
   "metadata": {},
   "outputs": [
    {
     "name": "stderr",
     "output_type": "stream",
     "text": [
      "100%|██████████| 13/13 [00:17<00:00,  1.34s/it]\n"
     ]
    }
   ],
   "source": [
    "training_file_paths = get_training_paths()\n",
    "training_infos = {path.stem: extract_info_from_training_path(path) for path in tqdm(training_file_paths)}\n",
    "#list(training_infos.items())[0]\n",
    "\n",
    "#dodac zapisywanie trainignów do folderów trainngs_infos.model_dump_json"
   ]
  },
  {
   "cell_type": "code",
   "execution_count": 25,
   "id": "278b9bc5-382d-4eed-81a1-720d3223f2ea",
   "metadata": {
    "collapsed": true,
    "jupyter": {
     "outputs_hidden": true,
     "source_hidden": true
    }
   },
   "outputs": [
    {
     "name": "stdout",
     "output_type": "stream",
     "text": [
      "[]\n",
      "[('tr_foo_waste_reduction_03', TrainingInfo(title='Master the Basics of Food Industry', domain='Food Industry', skill_acquired_and_level=({'level': 'Avançado', 'skill': 'Waste Reduction'},))), ('tr_vis_portfolio_development_03', TrainingInfo(title='Portfolio Development', domain='Visual Arts', skill_acquired_and_level=({'level': 'Avançado', 'skill': 'Portfolio Development'},))), ('tr_foo_waste_reduction_01', TrainingInfo(title='Waste Reduction - Básico', domain='Food Industry', skill_acquired_and_level=({'Skill': 'Waste Reduction', 'Level': 'Básico'},))), ('tr_vis_digital_art_software_if_applicable__02', TrainingInfo(title='Master the Basics of Visual Arts!', domain='Visual Arts', skill_acquired_and_level=({'level': 'Intermediário', 'skill': 'Digital Art Software'},))), ('tr_foo_production_line_management_01', TrainingInfo(title='Production Line Management - Básico', domain='Food Industry', skill_acquired_and_level=({'level': 'Básico', 'skill': 'Production Line Management'},))), ('tr_foo_recipe_scaling_01', TrainingInfo(title='Recipe Scaling - Básico', domain='Food Industry', skill_acquired_and_level=({'level': 'Básico', 'skill': 'Recipe Scaling'},))), ('tr_foo_hygiene_protocols_01', TrainingInfo(title='Hygiene Protocols', domain='Food Industry', skill_acquired_and_level=({'level': 'Básico', 'skill': 'Hygiene Protocols'},))), ('tr_foo_supply_chain_logistics_01', TrainingInfo(title='Supply Chain Logistics - Básico', domain='Food Industry', skill_acquired_and_level=({'level': 'Básico', 'skill': 'Supply Chain Logistics'},))), ('tr_foo_packaging_technology_01', TrainingInfo(title='Packaging Technology - Básico', domain='Food Industry', skill_acquired_and_level=({'level': 'Básico', 'skill': 'Packaging Technology'},))), ('tr_foo_material_procurement_01', TrainingInfo(title='Material Procurement - Básico', domain='Food Industry', skill_acquired_and_level=({'level': 'Básico', 'skill': 'Material Procurement'},)))]\n"
     ]
    }
   ],
   "source": [
    "matches = []\n",
    "\n",
    "for persona_id, persona_info in persona_infos.items():\n",
    "    persona_dict = {\"persona_id\": persona_id}\n",
    "    job_matches = []\n",
    "    training_matches = []\n",
    "    for job_id, job_info in job_infos.items():\n",
    "        if persona_info.job_fits(job_info):\n",
    "            job_matches.append((job_id, job_info))\n",
    "    for training_id, training_info in training_infos.items():\n",
    "        if persona_info.training_fits(training_info):\n",
    "            training_matches.append((training_id, training_info))\n",
    "\n",
    "# job_matches\n",
    "# training_matches\n",
    "print(job_matches)\n",
    "print(training_matches)"
   ]
  },
  {
   "cell_type": "code",
   "execution_count": 1,
   "id": "3813c106-230d-48aa-b955-a9b54ce92aed",
   "metadata": {
    "jupyter": {
     "source_hidden": true
    }
   },
   "outputs": [],
   "source": [
    "persona_type = [\"trainings_only\", \"jobs+trainings\", \"awareness\"]\n",
    "\n",
    "persona_dict = {\"perosna_id\": perosna_id, \"predicted_type\": persona_type}\n",
    "if persona_type == \"jobs+trainings\":\n",
    "    jobs_list = []\n",
    "    persona_training_ids = {training_id for training_id, _ in training_matches}\n",
    "    for job_id, job_info in job_matches:\n",
    "        #suggested trainings from job_info?\n",
    "        suggested_trainings = getattr(job_info, 'suggested_trainings', [])\n",
    "        # Filter to only those trainings that the persona matches with\n",
    "        filtered_trainings = [\n",
    "            tr_id for tr_id in suggested_trainings\n",
    "            if tr_id in persona_training_ids\n",
    "        ]\n",
    "        job_entry = {\n",
    "            \"job_id\": job_id,\n",
    "            \"suggested_trainings\": filtered_trainings\n",
    "        }\n",
    "        jobs_list.append(job_entry)\n",
    "    persona_dict[\"jobs\"] = jobs_list\n",
    "\n",
    "elif persona_type == \"trainings_only\":\n",
    "    training_ids = [training_id for training_id, _ in training_matches]\n",
    "    persona_dict[\"trainings\"] = training_ids\n",
    "\n",
    "elif persona_type == \"awareness\":\n",
    "    persona_dict[\"gold_items\"] = \"info\""
   ]
  },
  {
   "cell_type": "code",
   "execution_count": 9,
   "id": "e9186f62-1b58-4edf-b2a6-fe85073fd424",
   "metadata": {},
   "outputs": [],
   "source": [
    "def generate_persona_json(persona_infos, job_infos, training_infos):\n",
    "    \"\"\"\n",
    "    Generate JSON output for all personas.\n",
    "\n",
    "    Args:\n",
    "        persona_infos: Dictionary of persona_id to persona_info objects\n",
    "        job_infos: Dictionary of job_id to job_info objects\n",
    "        training_infos: Dictionary of training_id to training_info objects\n",
    "\n",
    "    Returns:\n",
    "        List of persona dictionaries ready for JSON serialization\n",
    "    \"\"\"\n",
    "    results = []\n",
    "\n",
    "    for persona_id, persona_info in persona_infos.items():\n",
    "        job_matches = []\n",
    "        training_matches = []\n",
    "\n",
    "        for job_id, job_info in job_infos.items():\n",
    "            if persona_info.job_fits(job_info):\n",
    "                job_matches.append((job_id, job_info))\n",
    "\n",
    "        for training_id, training_info in training_infos.items():\n",
    "            if persona_info.training_fits(training_info):\n",
    "                training_matches.append((training_id, training_info))\n",
    "        \n",
    "        training_matches = [\n",
    "            training_id  # We only care about the ID, not the info\n",
    "            for training_id in training_infos.keys()\n",
    "            if persona_info.training_fits(training_infos[training_id])\n",
    "        ]\n",
    "\n",
    "        # Build the persona dictionary based on matches\n",
    "        persona_dict = {\"persona_id\": persona_id}\n",
    "\n",
    "        if job_matches:\n",
    "            # This is a jobs+trainings persona\n",
    "            persona_dict[\"predicted_type\"] = \"jobs+trainings\"\n",
    "\n",
    "            jobs_list = []\n",
    "            #\n",
    "            matched_training_ids = set(training_matches)\n",
    "\n",
    "            for job_id, job_info in job_matches:\n",
    "                #suggested trainings from job_info\n",
    "                suggested_trainings = getattr(job_info, 'suggested_trainings', [])\n",
    "\n",
    "                #filter to only those trainings that the persona matches with\n",
    "                filtered_trainings = [\n",
    "                    tr_id for tr_id in suggested_trainings\n",
    "                    if tr_id in matched_training_ids\n",
    "                ]\n",
    "\n",
    "                jobs_list.append({\n",
    "                    \"job_id\": job_id,\n",
    "                    \"suggested_trainings\": filtered_trainings\n",
    "                })\n",
    "\n",
    "            persona_dict[\"jobs\"] = jobs_list\n",
    "\n",
    "        elif training_matches:\n",
    "            # This is a trainings_only persona\n",
    "            persona_dict[\"predicted_type\"] = \"trainings_only\"\n",
    "            persona_dict[\"trainings\"] = training_matches\n",
    "\n",
    "        else:\n",
    "            # This is an awareness persona\n",
    "            persona_dict[\"predicted_type\"] = \"awareness\"\n",
    "            persona_dict[\"gold_items\"] = \"info\" #I dont really like that but thats something we have in our gold json\n",
    "\n",
    "        results.append(persona_dict)\n",
    "\n",
    "    return results\n"
   ]
  },
  {
   "cell_type": "code",
   "execution_count": 10,
   "id": "aec5dcac-b02e-48e3-99d6-67416fe98c36",
   "metadata": {},
   "outputs": [
    {
     "name": "stdout",
     "output_type": "stream",
     "text": [
      "[{'persona_id': 'persona_004', 'predicted_type': 'trainings_only', 'trainings': ['tr_foo_waste_reduction_03', 'tr_foo_waste_reduction_01', 'tr_foo_production_line_management_01', 'tr_foo_recipe_scaling_01', 'tr_foo_product_development_01', 'tr_foo_food_safety_standards_haccp_gmp__01', 'tr_foo_quality_inspection_01', 'tr_foo_material_procurement_01']}]\n"
     ]
    }
   ],
   "source": [
    "print(generate_persona_json(persona_infos, job_infos, training_infos))"
   ]
  },
  {
   "cell_type": "code",
   "execution_count": null,
   "id": "47248ecf-e940-40e2-89ee-d13863a45720",
   "metadata": {},
   "outputs": [],
   "source": [
    "generate_persona_json()"
   ]
  },
  {
   "cell_type": "code",
   "execution_count": 1,
   "id": "66b4b49c-d340-4fb2-bb90-52f826778381",
   "metadata": {
    "jupyter": {
     "source_hidden": true
    }
   },
   "outputs": [],
   "source": [
    "data = [{'persona_id': 'persona_004', 'predicted_type': 'trainings_only', 'trainings': ['tr_foo_waste_reduction_03', 'tr_foo_waste_reduction_01', 'tr_foo_production_line_management_01', 'tr_foo_recipe_scaling_01', 'tr_foo_product_development_01', 'tr_foo_food_safety_standards_haccp_gmp__01', 'tr_foo_quality_inspection_01', 'tr_foo_material_procurement_01']}]"
   ]
  },
  {
   "cell_type": "code",
   "execution_count": 6,
   "id": "5d3069d9-9f59-46ac-b7cd-ebd81236df67",
   "metadata": {
    "jupyter": {
     "source_hidden": true
    }
   },
   "outputs": [],
   "source": [
    "with open('submission.jsonl', 'w') as file:  # Open in write mode with .jsonl extension\n",
    "    for item in data:\n",
    "        json.dump(item, file)  # Write the JSON object\n",
    "        file.write('\\n')  "
   ]
  },
  {
   "cell_type": "code",
   "execution_count": 7,
   "id": "959d8df5-f6fc-47ed-8c1a-b3566f9b28ba",
   "metadata": {
    "jupyter": {
     "source_hidden": true
    }
   },
   "outputs": [
    {
     "data": {
      "text/plain": [
       "<validator.ValidationResult at 0x7f32e1554130>"
      ]
     },
     "execution_count": 7,
     "metadata": {},
     "output_type": "execute_result"
    }
   ],
   "source": [
    "from validator import validate_file\n",
    "\n",
    "validate_file('submition.json')"
   ]
  },
  {
   "cell_type": "code",
   "execution_count": 19,
   "id": "ee504aaa-6e6b-4a50-bc3e-df4a91d2521f",
   "metadata": {
    "jupyter": {
     "source_hidden": true
    },
    "scrolled": true
   },
   "outputs": [
    {
     "name": "stdout",
     "output_type": "stream",
     "text": [
      "{'persona_053': PersonaInfo(name='Lucas Ferreira', skills=['basic data interpretation', 'Excel (SUM, AVERAGE)'], location='Brasília, Brazil', age='28')}\n"
     ]
    }
   ],
   "source": [
    "print(persona_infos)\n",
    "# print(job_infos)\n",
    "# print(training_infos)"
   ]
  },
  {
   "cell_type": "code",
   "execution_count": 11,
   "id": "05d8b223-3288-4832-b7f1-3a98632f196a",
   "metadata": {},
   "outputs": [
    {
     "name": "stdout",
     "output_type": "stream",
     "text": [
      "{'persona_004': PersonaInfo(name='Rafael Gomes', skills=[('Product Development', 'Intermediate'), ('Quality Assurance', 'Intermediate')], location='Rio de Janeiro', age='27', years_of_experience='1', domain='Food Industry')}\n"
     ]
    }
   ],
   "source": [
    "print(persona_infos)"
   ]
  },
  {
   "cell_type": "code",
   "execution_count": null,
   "id": "6828c7e1-7b8f-4cf8-b45b-8b5e32fe99e0",
   "metadata": {},
   "outputs": [],
   "source": []
  }
 ],
 "metadata": {
  "kernelspec": {
   "display_name": "conda_python3",
   "language": "python",
   "name": "conda_python3"
  },
  "language_info": {
   "codemirror_mode": {
    "name": "ipython",
    "version": 3
   },
   "file_extension": ".py",
   "mimetype": "text/x-python",
   "name": "python",
   "nbconvert_exporter": "python",
   "pygments_lexer": "ipython3",
   "version": "3.10.18"
  }
 },
 "nbformat": 4,
 "nbformat_minor": 5
}
