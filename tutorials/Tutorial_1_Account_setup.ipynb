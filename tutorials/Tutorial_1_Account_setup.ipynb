{
 "cells": [
  {
   "cell_type": "markdown",
   "id": "987be4ba",
   "metadata": {},
   "source": [
    "# Tutorial 1: Set up your account for GDSC 2025\n",
    "\n",
    "Alright, let's get you set up for GDSC 2025. Yeah, it's the boring admin stuff, but we need accounts before we can build cool AI agents.\n",
    "\n",
    "This tutorial covers all the groundwork: creating accounts, forming teams, getting AWS access, and setting up Mistral. Not the most exciting part, but trust me - getting this right now saves headaches later.\n",
    "\n",
    "**Quick heads up**: Join the [GDSC Teams channel](https://teams.microsoft.com/l/team/19%3a4017a2e9af4942e7aa157d6ec9d751b4%40thread.skype/conversations?groupId=7d77d672-dff1-4c9f-ac55-3c837c1bebf9&tenantId=76a2ae5a-9f00-4f6b-95ed-5d33d77c4d61/) first. That's where you'll get updates, find teammates, and ask questions when things inevitably break.\n",
    "\n",
    "What we're covering:\n",
    "  - [1. Signing up and logging to the website](#1-signing-up-and-logging-to-the-website)\n",
    "  - [2. Creating and joining a team](#2-creating-and-joining-a-team)\n",
    "  - [3. Setting up your AWS accounts](#3-setting-up-your-aws-accounts)\n",
    "  - [4. How to use AWS](#4-how-to-use-aws)\n",
<<<<<<< HEAD
    "  - [5. Running the tutorials](Tutorial_1_Account_setup.ipynb#5-running-the-tutorials)\n",
    "  - [6. Setting up your Mistral accounts](#6-setting-up-your-mistral-accounts)\n",
    "  - [7. Conclusion](#7-conclusion) "
=======
    "  - [5. Setting up your Mistral accounts](#5-setting-up-your-mistral-accounts)\n",
    "  - [6. Conclusion](#6-conclusion)"
>>>>>>> 210f77b7725eb0e94be34e164f97f8bdfe236c38
   ]
  },
  {
   "cell_type": "markdown",
   "id": "270b78e0-6b00-40ad-95a2-38ab2fa247ef",
   "metadata": {},
   "source": [
    "## 1. Signing up and logging to the website\n",
    "\n",
    "First things first - we need to get you into the system:\n",
    "\n",
    "1. Go to the GDSC Portal - [https://gdsc.ce.capgemini.com/app/](https://gdsc.ce.capgemini.com/app/). Use your Capgemini email (it has to be that one). Full name isn't required for signup, but you'll need it later if you want the completion certificate.  \n",
    "<img src=../images/t1_sign_up_page.png width=1200>\n",
    "\n",
    "2. Check your email for a message from gdsc.ce@capgemini.com that looks like this:  \n",
    "<img src=../images/t1_confirmation_email.png width=1200>\n",
    "\n",
    "3. Click the verification link. You'll get an error page - don't panic! This is normal. You can actually log in now (the error is just misleading).  \n",
    "<img src=../images/t1_error_on_confirmation.png>\n",
    "\n",
    "4. Head to [https://gdsc.ce.capgemini.com/app/login/](https://gdsc.ce.capgemini.com/app/login/) and use your credentials:  \n",
    "<img src=../images/t1_signing_in.png width=1200>\n",
    "\n",
    "5. Once you're in, you'll see the Resources page with all the challenge info. Take a look around - the [Usecase page](https://gdsc.ce.capgemini.com/app/usecase/) has good background on what we're building.\n",
    "\n",
    "**Stuck on signup?** This is exactly why the Teams channel exists - someone else probably hit the same issue."
   ]
  },
  {
   "cell_type": "markdown",
   "id": "60e8f67c-b3dd-4f78-8829-cf370c52e03a",
   "metadata": {},
   "source": [
    "## 2. Creating and joining a team\n",
    "\n",
    "Time to find your people. You need to be on a team to participate. Your options:\n",
    "   * Create a team just for yourself (valid but not recommended)\n",
    "   * Create a team and recruit others\n",
    "   * Join an existing team\n",
    "\n",
    "**Real talk**: Team up with other people. This challenge is better with teammates - you'll learn more, have more fun, and probably do better.\n",
    "\n",
    "**Need teammates?** Check the ['Looking for Team' channel](https://teams.microsoft.com/l/channel/19%3Aa32e03d38fc940ee9d4b20a7cc9e030d%40thread.skype/Looking%20for%20Team?groupId=7d77d672-dff1-4c9f-ac55-3c837c1bebf9&tenantId=76a2ae5a-9f00-4f6b-95ed-5d33d77c4d61). Pro tip: Find people in your timezone with similar goals. Want to win? Find competitive teammates. Here to learn? Find curious teammates. Max team size is 4.\n",
    "\n",
    "### Creating a team\n",
    "\n",
    "1. Go to the 'My Team' page:  \n",
    "<img src=../images/t1_access_my_team_page.png width=1200>\n",
    "\n",
    "2. Pick a team name (there's a prize for best name, so get creative) and hit 'Create Team':  \n",
    "<img src=../images/t1_create_team.png width=1200>\n",
    "\n",
    "3. Boom! You get a Team ID to share and an AWS account (like *GDSC_Account_16* in this example):  \n",
    "<img src=../images/t1_team_created.png width=1200>\n",
    "\n",
    "4. **If joining a team**: Copy someone's Team ID and paste it here:  \n",
    "<img src=../images/t1_join_team.png width=1200>  \n",
    "Changed your mind? You can cancel the request:  \n",
    "<img src=../images/t1_cancel_team_join_request.png width=1200>\n",
    "\n",
    "5. **If you're the team lead**: You'll see join requests that you can approve or decline:  \n",
    "<img src=../images/t1_approving_request.png width=1200>\n",
    "\n",
    "6. **Team management**: Team leads can remove members if needed:  \n",
    "<img src=../images/t1_removing_team_members.png width=1200>\n",
    "\n",
    "7. ⚠️ **Warning for team leads**: Deleting the team nukes everything - AWS resources, code, the works. Have backups!\n",
    "\n",
    "**Team formation taking forever?** Jump in the Teams channel - people are constantly forming teams there."
   ]
  },
  {
   "cell_type": "markdown",
   "id": "f303cde8",
   "metadata": {},
   "source": [
    "## 3. Setting up your AWS accounts\n",
    "\n",
    "AWS is where the magic happens - it's our development environment and where we'll access the LLM models. You got an AWS account when you created your team. Here's how to get in:\n",
    "\n",
    "1. Go to [My Team](https://gdsc.ce.capgemini.com/app/portal/) and look for your AWS access link and account name in the *How to get access to AWS* section.\n",
    "\n",
    "2. Login at [https://gdsc22.awsapps.com/start#](https://gdsc22.awsapps.com/start#) using the same Capgemini email:  \n",
    "<img src=\"../images/t1_aws_login.png\" width=\"400\"/>\n",
    "\n",
    "3. Check your email for a verification code from *no-reply@login.awsapps.com*, enter it, and set your password:  \n",
    "<img src=\"../images/t1_aws_reset_code.png\" width=\"600\"/>\n",
    "\n",
    "4. You should land on the AWS Portal. Click *TeamAccess* to get into your account:  \n",
    "<img src=../images/t1_aws_access_portal.png width=1200>\n",
    "\n",
    "**Getting \"access denied\" errors?** Two common causes:\n",
    "- The challenge hasn't started yet (kickoff is the 17th)\n",
    "- Your team burned through the weekly budget\n",
    "\n",
    "If it's not either of those, ask in the Teams channel - and someone will have the solution."
   ]
  },
  {
   "cell_type": "markdown",
   "id": "def49763",
   "metadata": {},
   "source": [
    "## 4. How to use AWS\n",
    "\n",
    "Almost there! Now that you're in AWS, let's get familiar with the main service we'll be using: **Amazon SageMaker AI**.\n",
    "\n",
    "Your AWS console should look like this:  \n",
    "<img src=../images/t1_aws_console_home.png width=1200>\n",
    "\n",
    "**Quick AWS survival tips:**\n",
    "* Stay in N. Virginia region (top right corner)\n",
    "* You can change language/theme in settings (next to region)\n",
    "* Search for services in the top left search bar\n",
    "\n",
    "**See red \"access denied\" messages?** Either:\n",
    "- Challenge hasn't started yet, or\n",
    "- Your team exceeded the weekly budget\n",
    "\n",
    "### Getting into SageMaker\n",
    "\n",
    "SageMaker is our coding environment - think of it as a managed Jupyter setup with everything pre-configured.\n",
    "\n",
    "Search for \"Amazon SageMaker AI\" and click it. Then go to \"Notebooks\" under \"Applications and IDEs\" on the left:  \n",
    "<img src=../images/t1_amazon_sagemaker_ai.png width=1200>\n",
    "\n",
    "You'll see 4 notebooks (one per potential team member). Coordinate with your team on who uses which one, then hit \"Start\" and wait for the status to go green \"InService\". Click \"Open JupyterLab\" under Actions.\n",
    "\n",
<<<<<<< HEAD
    "<img src=../images/t1_jupyter_lab.png width=1200>  \n",
    "\n",
    "Note that you can edit the appearance of the environment in \"Settings\", for instance changing to dark mode or changing the language.\n",
    "Further instructions on how to use notebooks will be provided in the upcoming tutorials.\n",
    "\n",
    "<img src=../images/t1_changing_theme.png width=1200>  "
   ]
  },
  {
   "cell_type": "markdown",
   "id": "5068a193",
   "metadata": {},
   "source": [
    "# 5. Running the tutorials\n",
    "\n",
    "All that's left now it to do one final check that everything is working. We'll do this by opening the second tutorial. Go back to Sagemaker, open your notebook and start JupyterLab as described in the previous section.\n",
    "\n",
    "In the left sidebar, you will see the tutorials folder. The first tutorial is this file. Open the second tutorial by clicking on **`Tutorial_2_Data_Exploration_and_First_API_Call.ipynb`**. Your screen should look like this:\n",
    "\n",
    "<img src=../images/t1_tutorial_overview.png width=1200>\n",
    "\n",
    "In the **`Select Kernel`** box click on **`Select`**. Scroll down to the first Python cell in the **`Let's grab the data`** section. Click in the cell and press **`Shift + Enter`** to run the cell. You should see the output of the cell below the cell.\n",
    "\n",
    "\n",
    "<img src=../images/t1_run_first_cell.png width=1200>\n",
    "\n",
    "And that's all from this section! Now, you can focus on learning how to set up your Mistral account. Good luck!\n"
=======
    "The JupyterLab interface will look familiar if you've used Jupyter before. You can customize it in Settings (dark mode, language, etc.).\n",
    "\n",
    "**Pro tip**: The notebooks have all the tutorials and starter code already there. No need to copy-paste anything.\n",
    "\n",
    "**SageMaker acting weird?** You know the drill - Teams channel has the answers."
>>>>>>> 210f77b7725eb0e94be34e164f97f8bdfe236c38
   ]
  },
  {
   "cell_type": "markdown",
   "id": "ccdbd436",
   "metadata": {},
   "source": [
    "# 6. Setting up your Mistral accounts\n",
    "\n",
    "This year we're using [Mistral](https://mistral.ai/) as our AI brain. All your agents will use Mistral models to think and reason.\n",
    "\n",
    "1. Head to the [Mistral login page](https://v2.auth.mistral.ai/login):  \n",
    "<img src=../images/t1_mistral_login_page.png width=1200>\n",
    "\n",
    "**TODO**: Need to clarify - are we using SSO or password reset? This needs to be resolved.\n",
    "\n",
    "2. The main Mistral platform looks like this:  \n",
    "<img src=../images/t1_mistral_home_page.png width=1200>\n",
    "\n",
    "3. You need an API key to actually use the models. Go to \"API Keys\" under \"Workspace\" on the left, then \"Create new key\":  \n",
    "<img src=../images/t1_mistral_create_new_api_key.png width=1200>\n",
    "\n",
    "4. Give your key a descriptive name and set an expiration date (good security practice):  \n",
    "<img src=../images/t1_mistral_create_key_menu.png>\n",
    "\n",
    "5. **Important**: Copy and save the key immediately - you can't see it again once you close this dialog!\n",
    "\n",
    "**Team coordination tip**: Only one person needs to create the API key, then share it with teammates. Coordinate this in your Teams chat to avoid confusion.\n",
    "\n",
    "**Mistral login issues?** Probably a common problem - check the Teams channel first."
   ]
  },
  {
   "cell_type": "markdown",
   "id": "fa5ceaae",
   "metadata": {},
   "source": [
    "## 7. Conclusion\n",
    "\n",
    "You're all set! You've got your GDSC account, formed a team, accessed AWS, and set up Mistral. The boring administrative stuff is done.\n",
    "\n",
    "**What you accomplished:**\n",
    "✅ GDSC portal access  \n",
    "✅ Team formation (or joining)  \n",
    "✅ AWS environment ready  \n",
    "✅ Mistral API key secured  \n",
    "\n",
    "**Next steps:**\n",
    "The real fun starts in the next tutorials where we'll dive into the data, build AI agents, and start competing.\n",
    "\n",
    "**Remember**: The [GDSC Teams channel](https://teams.microsoft.com/l/team/19%3a4017a2e9af4942e7aa157d6ec9d751b4%40thread.skype/conversations?groupId=7d77d672-dff1-4c9f-ac55-3c837c1bebf9&tenantId=76a2ae5a-9f00-4f6b-95ed-5d33d77c4d61/) is your lifeline. Ask questions, help others, find solutions. There's even a special prize for the team that helps the most!\n",
    "\n",
    "Let's build some AI agents! 🚀"
   ]
  }
 ],
 "metadata": {
  "kernelspec": {
   "display_name": "conda_python3",
   "language": "python",
   "name": "conda_python3"
  },
  "language_info": {
   "codemirror_mode": {
    "name": "ipython",
    "version": 3
   },
   "file_extension": ".py",
   "mimetype": "text/x-python",
   "name": "python",
   "nbconvert_exporter": "python",
   "pygments_lexer": "ipython3",
   "version": "3.10.18"
  }
 },
 "nbformat": 4,
 "nbformat_minor": 5
}
